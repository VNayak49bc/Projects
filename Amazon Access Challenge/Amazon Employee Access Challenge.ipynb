{
 "cells": [
  {
   "cell_type": "code",
   "execution_count": 1,
   "metadata": {},
   "outputs": [],
   "source": [
    "import numpy as np\n",
    "import pandas as pd\n",
    "import matplotlib.pyplot as plt\n",
    "import seaborn as sns\n",
    "from sklearn.model_selection import train_test_split, GridSearchCV\n",
    "from sklearn.linear_model import LogisticRegression\n",
    "from sklearn.preprocessing import OneHotEncoder\n",
    "from imblearn.over_sampling import SMOTE\n",
    "from catboost import CatBoostClassifier, cv, Pool"
   ]
  },
  {
   "cell_type": "code",
   "execution_count": 2,
   "metadata": {},
   "outputs": [
    {
     "data": {
      "text/html": [
       "<div>\n",
       "<style scoped>\n",
       "    .dataframe tbody tr th:only-of-type {\n",
       "        vertical-align: middle;\n",
       "    }\n",
       "\n",
       "    .dataframe tbody tr th {\n",
       "        vertical-align: top;\n",
       "    }\n",
       "\n",
       "    .dataframe thead th {\n",
       "        text-align: right;\n",
       "    }\n",
       "</style>\n",
       "<table border=\"1\" class=\"dataframe\">\n",
       "  <thead>\n",
       "    <tr style=\"text-align: right;\">\n",
       "      <th></th>\n",
       "      <th>ACTION</th>\n",
       "      <th>RESOURCE</th>\n",
       "      <th>MGR_ID</th>\n",
       "      <th>ROLE_ROLLUP_1</th>\n",
       "      <th>ROLE_ROLLUP_2</th>\n",
       "      <th>ROLE_DEPTNAME</th>\n",
       "      <th>ROLE_TITLE</th>\n",
       "      <th>ROLE_FAMILY_DESC</th>\n",
       "      <th>ROLE_FAMILY</th>\n",
       "      <th>ROLE_CODE</th>\n",
       "    </tr>\n",
       "  </thead>\n",
       "  <tbody>\n",
       "    <tr>\n",
       "      <th>0</th>\n",
       "      <td>1</td>\n",
       "      <td>39353</td>\n",
       "      <td>85475</td>\n",
       "      <td>117961</td>\n",
       "      <td>118300</td>\n",
       "      <td>123472</td>\n",
       "      <td>117905</td>\n",
       "      <td>117906</td>\n",
       "      <td>290919</td>\n",
       "      <td>117908</td>\n",
       "    </tr>\n",
       "    <tr>\n",
       "      <th>1</th>\n",
       "      <td>1</td>\n",
       "      <td>17183</td>\n",
       "      <td>1540</td>\n",
       "      <td>117961</td>\n",
       "      <td>118343</td>\n",
       "      <td>123125</td>\n",
       "      <td>118536</td>\n",
       "      <td>118536</td>\n",
       "      <td>308574</td>\n",
       "      <td>118539</td>\n",
       "    </tr>\n",
       "    <tr>\n",
       "      <th>2</th>\n",
       "      <td>1</td>\n",
       "      <td>36724</td>\n",
       "      <td>14457</td>\n",
       "      <td>118219</td>\n",
       "      <td>118220</td>\n",
       "      <td>117884</td>\n",
       "      <td>117879</td>\n",
       "      <td>267952</td>\n",
       "      <td>19721</td>\n",
       "      <td>117880</td>\n",
       "    </tr>\n",
       "    <tr>\n",
       "      <th>3</th>\n",
       "      <td>1</td>\n",
       "      <td>36135</td>\n",
       "      <td>5396</td>\n",
       "      <td>117961</td>\n",
       "      <td>118343</td>\n",
       "      <td>119993</td>\n",
       "      <td>118321</td>\n",
       "      <td>240983</td>\n",
       "      <td>290919</td>\n",
       "      <td>118322</td>\n",
       "    </tr>\n",
       "    <tr>\n",
       "      <th>4</th>\n",
       "      <td>1</td>\n",
       "      <td>42680</td>\n",
       "      <td>5905</td>\n",
       "      <td>117929</td>\n",
       "      <td>117930</td>\n",
       "      <td>119569</td>\n",
       "      <td>119323</td>\n",
       "      <td>123932</td>\n",
       "      <td>19793</td>\n",
       "      <td>119325</td>\n",
       "    </tr>\n",
       "  </tbody>\n",
       "</table>\n",
       "</div>"
      ],
      "text/plain": [
       "   ACTION  RESOURCE  MGR_ID  ROLE_ROLLUP_1  ROLE_ROLLUP_2  ROLE_DEPTNAME  \\\n",
       "0       1     39353   85475         117961         118300         123472   \n",
       "1       1     17183    1540         117961         118343         123125   \n",
       "2       1     36724   14457         118219         118220         117884   \n",
       "3       1     36135    5396         117961         118343         119993   \n",
       "4       1     42680    5905         117929         117930         119569   \n",
       "\n",
       "   ROLE_TITLE  ROLE_FAMILY_DESC  ROLE_FAMILY  ROLE_CODE  \n",
       "0      117905            117906       290919     117908  \n",
       "1      118536            118536       308574     118539  \n",
       "2      117879            267952        19721     117880  \n",
       "3      118321            240983       290919     118322  \n",
       "4      119323            123932        19793     119325  "
      ]
     },
     "execution_count": 2,
     "metadata": {},
     "output_type": "execute_result"
    }
   ],
   "source": [
    "train = pd.read_csv('Data/Amazon Employee Access Data/train.csv')\n",
    "train.head()"
   ]
  },
  {
   "cell_type": "code",
   "execution_count": 3,
   "metadata": {},
   "outputs": [
    {
     "data": {
      "text/plain": [
       "(32769, 10)"
      ]
     },
     "execution_count": 3,
     "metadata": {},
     "output_type": "execute_result"
    }
   ],
   "source": [
    "train.shape"
   ]
  },
  {
   "cell_type": "code",
   "execution_count": 4,
   "metadata": {
    "scrolled": true
   },
   "outputs": [
    {
     "data": {
      "text/html": [
       "<div>\n",
       "<style scoped>\n",
       "    .dataframe tbody tr th:only-of-type {\n",
       "        vertical-align: middle;\n",
       "    }\n",
       "\n",
       "    .dataframe tbody tr th {\n",
       "        vertical-align: top;\n",
       "    }\n",
       "\n",
       "    .dataframe thead th {\n",
       "        text-align: right;\n",
       "    }\n",
       "</style>\n",
       "<table border=\"1\" class=\"dataframe\">\n",
       "  <thead>\n",
       "    <tr style=\"text-align: right;\">\n",
       "      <th></th>\n",
       "      <th>id</th>\n",
       "      <th>RESOURCE</th>\n",
       "      <th>MGR_ID</th>\n",
       "      <th>ROLE_ROLLUP_1</th>\n",
       "      <th>ROLE_ROLLUP_2</th>\n",
       "      <th>ROLE_DEPTNAME</th>\n",
       "      <th>ROLE_TITLE</th>\n",
       "      <th>ROLE_FAMILY_DESC</th>\n",
       "      <th>ROLE_FAMILY</th>\n",
       "      <th>ROLE_CODE</th>\n",
       "    </tr>\n",
       "  </thead>\n",
       "  <tbody>\n",
       "    <tr>\n",
       "      <th>0</th>\n",
       "      <td>1</td>\n",
       "      <td>78766</td>\n",
       "      <td>72734</td>\n",
       "      <td>118079</td>\n",
       "      <td>118080</td>\n",
       "      <td>117878</td>\n",
       "      <td>117879</td>\n",
       "      <td>118177</td>\n",
       "      <td>19721</td>\n",
       "      <td>117880</td>\n",
       "    </tr>\n",
       "    <tr>\n",
       "      <th>1</th>\n",
       "      <td>2</td>\n",
       "      <td>40644</td>\n",
       "      <td>4378</td>\n",
       "      <td>117961</td>\n",
       "      <td>118327</td>\n",
       "      <td>118507</td>\n",
       "      <td>118863</td>\n",
       "      <td>122008</td>\n",
       "      <td>118398</td>\n",
       "      <td>118865</td>\n",
       "    </tr>\n",
       "    <tr>\n",
       "      <th>2</th>\n",
       "      <td>3</td>\n",
       "      <td>75443</td>\n",
       "      <td>2395</td>\n",
       "      <td>117961</td>\n",
       "      <td>118300</td>\n",
       "      <td>119488</td>\n",
       "      <td>118172</td>\n",
       "      <td>301534</td>\n",
       "      <td>249618</td>\n",
       "      <td>118175</td>\n",
       "    </tr>\n",
       "    <tr>\n",
       "      <th>3</th>\n",
       "      <td>4</td>\n",
       "      <td>43219</td>\n",
       "      <td>19986</td>\n",
       "      <td>117961</td>\n",
       "      <td>118225</td>\n",
       "      <td>118403</td>\n",
       "      <td>120773</td>\n",
       "      <td>136187</td>\n",
       "      <td>118960</td>\n",
       "      <td>120774</td>\n",
       "    </tr>\n",
       "    <tr>\n",
       "      <th>4</th>\n",
       "      <td>5</td>\n",
       "      <td>42093</td>\n",
       "      <td>50015</td>\n",
       "      <td>117961</td>\n",
       "      <td>118343</td>\n",
       "      <td>119598</td>\n",
       "      <td>118422</td>\n",
       "      <td>300136</td>\n",
       "      <td>118424</td>\n",
       "      <td>118425</td>\n",
       "    </tr>\n",
       "  </tbody>\n",
       "</table>\n",
       "</div>"
      ],
      "text/plain": [
       "   id  RESOURCE  MGR_ID  ROLE_ROLLUP_1  ROLE_ROLLUP_2  ROLE_DEPTNAME  \\\n",
       "0   1     78766   72734         118079         118080         117878   \n",
       "1   2     40644    4378         117961         118327         118507   \n",
       "2   3     75443    2395         117961         118300         119488   \n",
       "3   4     43219   19986         117961         118225         118403   \n",
       "4   5     42093   50015         117961         118343         119598   \n",
       "\n",
       "   ROLE_TITLE  ROLE_FAMILY_DESC  ROLE_FAMILY  ROLE_CODE  \n",
       "0      117879            118177        19721     117880  \n",
       "1      118863            122008       118398     118865  \n",
       "2      118172            301534       249618     118175  \n",
       "3      120773            136187       118960     120774  \n",
       "4      118422            300136       118424     118425  "
      ]
     },
     "execution_count": 4,
     "metadata": {},
     "output_type": "execute_result"
    }
   ],
   "source": [
    "test = pd.read_csv('Data/Amazon Employee Access Data/test.csv')\n",
    "test.head()"
   ]
  },
  {
   "cell_type": "code",
   "execution_count": 5,
   "metadata": {},
   "outputs": [
    {
     "data": {
      "text/plain": [
       "(58921, 10)"
      ]
     },
     "execution_count": 5,
     "metadata": {},
     "output_type": "execute_result"
    }
   ],
   "source": [
    "test.shape"
   ]
  },
  {
   "cell_type": "code",
   "execution_count": 6,
   "metadata": {},
   "outputs": [],
   "source": [
    "test.drop(columns='id',inplace=True)"
   ]
  },
  {
   "cell_type": "markdown",
   "metadata": {},
   "source": [
    "### Exploratory Data Analysis"
   ]
  },
  {
   "cell_type": "code",
   "execution_count": 7,
   "metadata": {},
   "outputs": [
    {
     "name": "stdout",
     "output_type": "stream",
     "text": [
      "<class 'pandas.core.frame.DataFrame'>\n",
      "RangeIndex: 32769 entries, 0 to 32768\n",
      "Data columns (total 10 columns):\n",
      " #   Column            Non-Null Count  Dtype\n",
      "---  ------            --------------  -----\n",
      " 0   ACTION            32769 non-null  int64\n",
      " 1   RESOURCE          32769 non-null  int64\n",
      " 2   MGR_ID            32769 non-null  int64\n",
      " 3   ROLE_ROLLUP_1     32769 non-null  int64\n",
      " 4   ROLE_ROLLUP_2     32769 non-null  int64\n",
      " 5   ROLE_DEPTNAME     32769 non-null  int64\n",
      " 6   ROLE_TITLE        32769 non-null  int64\n",
      " 7   ROLE_FAMILY_DESC  32769 non-null  int64\n",
      " 8   ROLE_FAMILY       32769 non-null  int64\n",
      " 9   ROLE_CODE         32769 non-null  int64\n",
      "dtypes: int64(10)\n",
      "memory usage: 2.5 MB\n"
     ]
    }
   ],
   "source": [
    "train.info()"
   ]
  },
  {
   "cell_type": "code",
   "execution_count": 8,
   "metadata": {
    "scrolled": true
   },
   "outputs": [
    {
     "data": {
      "text/plain": [
       "ACTION                 2\n",
       "RESOURCE            7518\n",
       "MGR_ID              4243\n",
       "ROLE_ROLLUP_1        128\n",
       "ROLE_ROLLUP_2        177\n",
       "ROLE_DEPTNAME        449\n",
       "ROLE_TITLE           343\n",
       "ROLE_FAMILY_DESC    2358\n",
       "ROLE_FAMILY           67\n",
       "ROLE_CODE            343\n",
       "dtype: int64"
      ]
     },
     "execution_count": 8,
     "metadata": {},
     "output_type": "execute_result"
    }
   ],
   "source": [
    "train.nunique()"
   ]
  },
  {
   "cell_type": "code",
   "execution_count": 9,
   "metadata": {},
   "outputs": [
    {
     "data": {
      "text/plain": [
       "0"
      ]
     },
     "execution_count": 9,
     "metadata": {},
     "output_type": "execute_result"
    }
   ],
   "source": [
    "sum(train.isnull().sum())"
   ]
  },
  {
   "cell_type": "code",
   "execution_count": 10,
   "metadata": {},
   "outputs": [
    {
     "data": {
      "text/plain": [
       "1    30872\n",
       "0     1897\n",
       "Name: ACTION, dtype: int64"
      ]
     },
     "execution_count": 10,
     "metadata": {},
     "output_type": "execute_result"
    }
   ],
   "source": [
    "train['ACTION'].value_counts()"
   ]
  },
  {
   "cell_type": "markdown",
   "metadata": {},
   "source": [
    "**Data is unbalanced**"
   ]
  },
  {
   "cell_type": "code",
   "execution_count": 11,
   "metadata": {
    "scrolled": false
   },
   "outputs": [
    {
     "data": {
      "image/png": "[encoded data removed]",
      "text/plain": [
       "<Figure size 1440x3600 with 10 Axes>"
      ]
     },
     "metadata": {
      "needs_background": "light"
     },
     "output_type": "display_data"
    }
   ],
   "source": [
    "train.drop(columns='ACTION').hist(figsize=(20,50),bins=50,layout=(5,2));"
   ]
  },
  {
   "cell_type": "code",
   "execution_count": 12,
   "metadata": {},
   "outputs": [
    {
     "data": {
      "image/png": "[encoded data removed]",
      "text/plain": [
       "<Figure size 720x432 with 2 Axes>"
      ]
     },
     "metadata": {
      "needs_background": "light"
     },
     "output_type": "display_data"
    }
   ],
   "source": [
    "plt.figure(figsize=(10,6))\n",
    "sns.heatmap(train.corr(),cmap='viridis',annot=True);"
   ]
  },
  {
   "cell_type": "markdown",
   "metadata": {},
   "source": [
    "## Model Building"
   ]
  },
  {
   "cell_type": "markdown",
   "metadata": {},
   "source": [
    "### 1. On unbalanced data"
   ]
  },
  {
   "cell_type": "code",
   "execution_count": 13,
   "metadata": {},
   "outputs": [],
   "source": [
    "X = train.drop(columns='ACTION')\n",
    "y = train['ACTION']"
   ]
  },
  {
   "cell_type": "markdown",
   "metadata": {},
   "source": [
    "**Logisitic Regression**"
   ]
  },
  {
   "cell_type": "code",
   "execution_count": 14,
   "metadata": {},
   "outputs": [],
   "source": [
    "encoder = OneHotEncoder(drop='first')"
   ]
  },
  {
   "cell_type": "code",
   "execution_count": 15,
   "metadata": {},
   "outputs": [],
   "source": [
    "x = encoder.fit_transform(X)"
   ]
  },
  {
   "cell_type": "code",
   "execution_count": 16,
   "metadata": {},
   "outputs": [],
   "source": [
    "x_train, x_val, y_train, y_val = train_test_split(x, y, test_size=0.25, random_state = 1)"
   ]
  },
  {
   "cell_type": "code",
   "execution_count": 17,
   "metadata": {},
   "outputs": [],
   "source": [
    "classifier = LogisticRegression(solver='liblinear')"
   ]
  },
  {
   "cell_type": "code",
   "execution_count": 18,
   "metadata": {},
   "outputs": [
    {
     "data": {
      "text/plain": [
       "LogisticRegression(solver='liblinear')"
      ]
     },
     "execution_count": 18,
     "metadata": {},
     "output_type": "execute_result"
    }
   ],
   "source": [
    "classifier.fit(x_train,y_train)"
   ]
  },
  {
   "cell_type": "code",
   "execution_count": 19,
   "metadata": {},
   "outputs": [
    {
     "data": {
      "text/plain": [
       "0.9594319661458334"
      ]
     },
     "execution_count": 19,
     "metadata": {},
     "output_type": "execute_result"
    }
   ],
   "source": [
    "classifier.score(x_train,y_train)"
   ]
  },
  {
   "cell_type": "code",
   "execution_count": 20,
   "metadata": {
    "scrolled": true
   },
   "outputs": [
    {
     "data": {
      "text/plain": [
       "0.9473941169290858"
      ]
     },
     "execution_count": 20,
     "metadata": {},
     "output_type": "execute_result"
    }
   ],
   "source": [
    "classifier.score(x_val,y_val)"
   ]
  },
  {
   "cell_type": "markdown",
   "metadata": {},
   "source": [
    "**CatBoost Classifier**"
   ]
  },
  {
   "cell_type": "code",
   "execution_count": 21,
   "metadata": {},
   "outputs": [],
   "source": [
    "X_train, X_val, y_train, y_val = train_test_split(X, y, test_size=0.25, random_state = 1)"
   ]
  },
  {
   "cell_type": "code",
   "execution_count": 22,
   "metadata": {},
   "outputs": [],
   "source": [
    "params = {'loss_function':'Logloss',\n",
    "          'eval_metric':'AUC',\n",
    "          'verbose':20,\n",
    "          'random_seed':1\n",
    "         }"
   ]
  },
  {
   "cell_type": "code",
   "execution_count": 23,
   "metadata": {},
   "outputs": [
    {
     "name": "stdout",
     "output_type": "stream",
     "text": [
      "Learning rate set to 0.069882\n",
      "0:\ttest: 0.5400959\tbest: 0.5400959 (0)\ttotal: 207ms\tremaining: 3m 26s\n",
      "20:\ttest: 0.7053957\tbest: 0.7053957 (20)\ttotal: 484ms\tremaining: 22.5s\n",
      "40:\ttest: 0.7363684\tbest: 0.7363684 (40)\ttotal: 750ms\tremaining: 17.5s\n",
      "60:\ttest: 0.7565725\tbest: 0.7565725 (60)\ttotal: 1.03s\tremaining: 15.8s\n",
      "80:\ttest: 0.7658212\tbest: 0.7658986 (79)\ttotal: 1.28s\tremaining: 14.5s\n",
      "100:\ttest: 0.7767405\tbest: 0.7767405 (100)\ttotal: 1.52s\tremaining: 13.5s\n",
      "120:\ttest: 0.7859988\tbest: 0.7859988 (120)\ttotal: 1.75s\tremaining: 12.7s\n",
      "140:\ttest: 0.7913205\tbest: 0.7913205 (140)\ttotal: 2s\tremaining: 12.2s\n",
      "160:\ttest: 0.7970506\tbest: 0.7970506 (160)\ttotal: 2.23s\tremaining: 11.6s\n",
      "180:\ttest: 0.7995461\tbest: 0.7997747 (178)\ttotal: 2.47s\tremaining: 11.2s\n",
      "200:\ttest: 0.8016667\tbest: 0.8017826 (196)\ttotal: 2.73s\tremaining: 10.8s\n",
      "220:\ttest: 0.8068215\tbest: 0.8068215 (220)\ttotal: 3s\tremaining: 10.6s\n",
      "240:\ttest: 0.8095411\tbest: 0.8095411 (240)\ttotal: 3.28s\tremaining: 10.3s\n",
      "260:\ttest: 0.8114352\tbest: 0.8114352 (260)\ttotal: 3.64s\tremaining: 10.3s\n",
      "280:\ttest: 0.8130537\tbest: 0.8130865 (277)\ttotal: 3.93s\tremaining: 10s\n",
      "300:\ttest: 0.8145524\tbest: 0.8146363 (299)\ttotal: 4.18s\tremaining: 9.7s\n",
      "320:\ttest: 0.8168900\tbest: 0.8168900 (320)\ttotal: 4.41s\tremaining: 9.32s\n",
      "340:\ttest: 0.8184178\tbest: 0.8184178 (340)\ttotal: 4.63s\tremaining: 8.95s\n",
      "360:\ttest: 0.8198704\tbest: 0.8198861 (355)\ttotal: 4.87s\tremaining: 8.62s\n",
      "380:\ttest: 0.8218370\tbest: 0.8218970 (378)\ttotal: 5.1s\tremaining: 8.29s\n",
      "400:\ttest: 0.8234442\tbest: 0.8234442 (400)\ttotal: 5.33s\tremaining: 7.96s\n",
      "420:\ttest: 0.8237271\tbest: 0.8238246 (415)\ttotal: 5.56s\tremaining: 7.65s\n",
      "440:\ttest: 0.8246952\tbest: 0.8247103 (439)\ttotal: 5.8s\tremaining: 7.35s\n",
      "460:\ttest: 0.8254436\tbest: 0.8254459 (459)\ttotal: 6.03s\tremaining: 7.05s\n",
      "480:\ttest: 0.8262974\tbest: 0.8263984 (476)\ttotal: 6.28s\tremaining: 6.78s\n",
      "500:\ttest: 0.8277386\tbest: 0.8278763 (496)\ttotal: 6.51s\tremaining: 6.48s\n",
      "520:\ttest: 0.8292616\tbest: 0.8292616 (520)\ttotal: 6.74s\tremaining: 6.2s\n",
      "540:\ttest: 0.8297947\tbest: 0.8299339 (539)\ttotal: 6.98s\tremaining: 5.92s\n",
      "560:\ttest: 0.8309205\tbest: 0.8310090 (559)\ttotal: 7.22s\tremaining: 5.65s\n",
      "580:\ttest: 0.8309948\tbest: 0.8310090 (559)\ttotal: 7.45s\tremaining: 5.38s\n",
      "600:\ttest: 0.8323016\tbest: 0.8323806 (596)\ttotal: 7.68s\tremaining: 5.1s\n",
      "620:\ttest: 0.8322479\tbest: 0.8329023 (612)\ttotal: 7.91s\tremaining: 4.83s\n",
      "640:\ttest: 0.8328372\tbest: 0.8329383 (636)\ttotal: 8.15s\tremaining: 4.57s\n",
      "660:\ttest: 0.8332299\tbest: 0.8332299 (660)\ttotal: 8.38s\tremaining: 4.3s\n",
      "680:\ttest: 0.8336124\tbest: 0.8338139 (669)\ttotal: 8.62s\tremaining: 4.04s\n",
      "700:\ttest: 0.8338452\tbest: 0.8339167 (698)\ttotal: 8.85s\tremaining: 3.77s\n",
      "720:\ttest: 0.8352145\tbest: 0.8352145 (720)\ttotal: 9.08s\tremaining: 3.51s\n",
      "740:\ttest: 0.8357622\tbest: 0.8358544 (732)\ttotal: 9.31s\tremaining: 3.25s\n",
      "760:\ttest: 0.8352095\tbest: 0.8359259 (741)\ttotal: 9.54s\tremaining: 3s\n",
      "780:\ttest: 0.8357862\tbest: 0.8360528 (777)\ttotal: 9.77s\tremaining: 2.74s\n",
      "800:\ttest: 0.8358281\tbest: 0.8361190 (795)\ttotal: 9.99s\tremaining: 2.48s\n",
      "820:\ttest: 0.8362201\tbest: 0.8362201 (820)\ttotal: 10.2s\tremaining: 2.23s\n",
      "840:\ttest: 0.8363660\tbest: 0.8364506 (837)\ttotal: 10.5s\tremaining: 1.99s\n",
      "860:\ttest: 0.8367675\tbest: 0.8367675 (860)\ttotal: 10.7s\tremaining: 1.73s\n",
      "880:\ttest: 0.8374001\tbest: 0.8374001 (880)\ttotal: 11s\tremaining: 1.48s\n",
      "900:\ttest: 0.8375043\tbest: 0.8378639 (895)\ttotal: 11.2s\tremaining: 1.23s\n",
      "920:\ttest: 0.8378424\tbest: 0.8379388 (918)\ttotal: 11.4s\tremaining: 979ms\n",
      "940:\ttest: 0.8382757\tbest: 0.8383724 (928)\ttotal: 11.7s\tremaining: 731ms\n",
      "960:\ttest: 0.8386054\tbest: 0.8386926 (958)\ttotal: 11.9s\tremaining: 482ms\n",
      "980:\ttest: 0.8390103\tbest: 0.8390167 (979)\ttotal: 12.1s\tremaining: 235ms\n",
      "999:\ttest: 0.8391131\tbest: 0.8393621 (997)\ttotal: 12.4s\tremaining: 0us\n",
      "\n",
      "bestTest = 0.8393620826\n",
      "bestIteration = 997\n",
      "\n",
      "Shrink model to first 998 iterations.\n"
     ]
    },
    {
     "data": {
      "text/plain": [
       "<catboost.core.CatBoostClassifier at 0x24493f66c70>"
      ]
     },
     "execution_count": 23,
     "metadata": {},
     "output_type": "execute_result"
    }
   ],
   "source": [
    "catmodel1 = CatBoostClassifier(**params)\n",
    "catmodel1.fit(X_train,y_train, eval_set = (X_val,y_val), use_best_model=True)"
   ]
  },
  {
   "cell_type": "markdown",
   "metadata": {},
   "source": [
    "In the above model Catboost treated Categorical Data as Numerical Data"
   ]
  },
  {
   "cell_type": "code",
   "execution_count": 24,
   "metadata": {},
   "outputs": [
    {
     "name": "stdout",
     "output_type": "stream",
     "text": [
      "[0, 1, 2, 3, 4, 5, 6, 7, 8]\n"
     ]
    }
   ],
   "source": [
    "categorical_features = list(range(X.shape[1]))\n",
    "print(categorical_features)"
   ]
  },
  {
   "cell_type": "code",
   "execution_count": 25,
   "metadata": {},
   "outputs": [],
   "source": [
    "params = {'loss_function':'Logloss',\n",
    "          'eval_metric':'AUC',\n",
    "          'verbose':100,\n",
    "          'random_seed':1,\n",
    "          'cat_features':categorical_features\n",
    "         }"
   ]
  },
  {
   "cell_type": "code",
   "execution_count": 26,
   "metadata": {},
   "outputs": [
    {
     "name": "stdout",
     "output_type": "stream",
     "text": [
      "Learning rate set to 0.069882\n",
      "0:\ttest: 0.5637606\tbest: 0.5637606 (0)\ttotal: 60.8ms\tremaining: 1m\n",
      "100:\ttest: 0.8912516\tbest: 0.8912516 (100)\ttotal: 5.97s\tremaining: 53.2s\n",
      "200:\ttest: 0.8959353\tbest: 0.8959406 (199)\ttotal: 14.1s\tremaining: 56.2s\n",
      "300:\ttest: 0.8980247\tbest: 0.8982812 (288)\ttotal: 20.2s\tremaining: 46.9s\n",
      "400:\ttest: 0.8988575\tbest: 0.8992987 (362)\ttotal: 26.9s\tremaining: 40.2s\n",
      "500:\ttest: 0.8999874\tbest: 0.8999874 (500)\ttotal: 33.3s\tremaining: 33.2s\n",
      "600:\ttest: 0.9004275\tbest: 0.9005535 (598)\ttotal: 41.5s\tremaining: 27.5s\n",
      "700:\ttest: 0.9000595\tbest: 0.9008243 (655)\ttotal: 51.1s\tremaining: 21.8s\n",
      "800:\ttest: 0.8995177\tbest: 0.9008243 (655)\ttotal: 58.5s\tremaining: 14.5s\n",
      "900:\ttest: 0.9005697\tbest: 0.9008243 (655)\ttotal: 1m 5s\tremaining: 7.2s\n",
      "999:\ttest: 0.9002576\tbest: 0.9008243 (655)\ttotal: 1m 11s\tremaining: 0us\n",
      "\n",
      "bestTest = 0.9008242549\n",
      "bestIteration = 655\n",
      "\n",
      "Shrink model to first 656 iterations.\n"
     ]
    },
    {
     "data": {
      "text/plain": [
       "<catboost.core.CatBoostClassifier at 0x2449a45d760>"
      ]
     },
     "execution_count": 26,
     "metadata": {},
     "output_type": "execute_result"
    }
   ],
   "source": [
    "catmodel2 = CatBoostClassifier(**params)\n",
    "catmodel2.fit(X_train,y_train, eval_set = (X_val,y_val), use_best_model=True)"
   ]
  },
  {
   "cell_type": "markdown",
   "metadata": {},
   "source": [
    "### Cross Validation"
   ]
  },
  {
   "cell_type": "code",
   "execution_count": 27,
   "metadata": {},
   "outputs": [
    {
     "name": "stdout",
     "output_type": "stream",
     "text": [
      "0:\ttest: 0.5381441\tbest: 0.5381441 (0)\ttotal: 441ms\tremaining: 7m 20s\n",
      "100:\ttest: 0.8758526\tbest: 0.8758526 (100)\ttotal: 55.7s\tremaining: 8m 16s\n",
      "200:\ttest: 0.8842819\tbest: 0.8842819 (200)\ttotal: 1m 42s\tremaining: 6m 46s\n",
      "300:\ttest: 0.8865232\tbest: 0.8865232 (300)\ttotal: 2m 26s\tremaining: 5m 40s\n",
      "400:\ttest: 0.8887667\tbest: 0.8887796 (399)\ttotal: 3m 14s\tremaining: 4m 50s\n",
      "500:\ttest: 0.8896627\tbest: 0.8896987 (495)\ttotal: 4m 4s\tremaining: 4m 3s\n",
      "600:\ttest: 0.8901047\tbest: 0.8901349 (596)\ttotal: 5m 1s\tremaining: 3m 19s\n",
      "700:\ttest: 0.8906707\tbest: 0.8906809 (697)\ttotal: 5m 52s\tremaining: 2m 30s\n",
      "800:\ttest: 0.8912613\tbest: 0.8912854 (799)\ttotal: 6m 42s\tremaining: 1m 40s\n",
      "900:\ttest: 0.8915761\tbest: 0.8915761 (900)\ttotal: 7m 31s\tremaining: 49.6s\n",
      "999:\ttest: 0.8920316\tbest: 0.8920727 (996)\ttotal: 8m 18s\tremaining: 0us\n"
     ]
    }
   ],
   "source": [
    "params = {'loss_function':'Logloss',\n",
    "          'eval_metric':'AUC',\n",
    "          'verbose':100,\n",
    "          'random_seed':1,\n",
    "         }\n",
    "\n",
    "# pool for data processing\n",
    "total_train_data = Pool(data=X,label=y,cat_features=categorical_features)\n",
    "\n",
    "scores = cv(pool=total_train_data, params=params,fold_count=4,seed=1,shuffle=True,stratified=True)"
   ]
  },
  {
   "cell_type": "markdown",
   "metadata": {},
   "source": [
    "**Feature Importance**"
   ]
  },
  {
   "cell_type": "code",
   "execution_count": 28,
   "metadata": {},
   "outputs": [
    {
     "data": {
      "text/html": [
       "<div>\n",
       "<style scoped>\n",
       "    .dataframe tbody tr th:only-of-type {\n",
       "        vertical-align: middle;\n",
       "    }\n",
       "\n",
       "    .dataframe tbody tr th {\n",
       "        vertical-align: top;\n",
       "    }\n",
       "\n",
       "    .dataframe thead th {\n",
       "        text-align: right;\n",
       "    }\n",
       "</style>\n",
       "<table border=\"1\" class=\"dataframe\">\n",
       "  <thead>\n",
       "    <tr style=\"text-align: right;\">\n",
       "      <th></th>\n",
       "      <th>Feature Id</th>\n",
       "      <th>Importances</th>\n",
       "    </tr>\n",
       "  </thead>\n",
       "  <tbody>\n",
       "    <tr>\n",
       "      <th>0</th>\n",
       "      <td>RESOURCE</td>\n",
       "      <td>19.922997</td>\n",
       "    </tr>\n",
       "    <tr>\n",
       "      <th>1</th>\n",
       "      <td>ROLE_DEPTNAME</td>\n",
       "      <td>16.731695</td>\n",
       "    </tr>\n",
       "    <tr>\n",
       "      <th>2</th>\n",
       "      <td>MGR_ID</td>\n",
       "      <td>15.050018</td>\n",
       "    </tr>\n",
       "    <tr>\n",
       "      <th>3</th>\n",
       "      <td>ROLE_ROLLUP_2</td>\n",
       "      <td>13.304811</td>\n",
       "    </tr>\n",
       "    <tr>\n",
       "      <th>4</th>\n",
       "      <td>ROLE_FAMILY_DESC</td>\n",
       "      <td>9.594347</td>\n",
       "    </tr>\n",
       "    <tr>\n",
       "      <th>5</th>\n",
       "      <td>ROLE_TITLE</td>\n",
       "      <td>7.346093</td>\n",
       "    </tr>\n",
       "    <tr>\n",
       "      <th>6</th>\n",
       "      <td>ROLE_FAMILY</td>\n",
       "      <td>6.363669</td>\n",
       "    </tr>\n",
       "    <tr>\n",
       "      <th>7</th>\n",
       "      <td>ROLE_ROLLUP_1</td>\n",
       "      <td>6.023152</td>\n",
       "    </tr>\n",
       "    <tr>\n",
       "      <th>8</th>\n",
       "      <td>ROLE_CODE</td>\n",
       "      <td>5.663218</td>\n",
       "    </tr>\n",
       "  </tbody>\n",
       "</table>\n",
       "</div>"
      ],
      "text/plain": [
       "         Feature Id  Importances\n",
       "0          RESOURCE    19.922997\n",
       "1     ROLE_DEPTNAME    16.731695\n",
       "2            MGR_ID    15.050018\n",
       "3     ROLE_ROLLUP_2    13.304811\n",
       "4  ROLE_FAMILY_DESC     9.594347\n",
       "5        ROLE_TITLE     7.346093\n",
       "6       ROLE_FAMILY     6.363669\n",
       "7     ROLE_ROLLUP_1     6.023152\n",
       "8         ROLE_CODE     5.663218"
      ]
     },
     "execution_count": 28,
     "metadata": {},
     "output_type": "execute_result"
    }
   ],
   "source": [
    "feature_imp = catmodel2.get_feature_importance(prettified=True)\n",
    "feature_imp"
   ]
  },
  {
   "cell_type": "code",
   "execution_count": 29,
   "metadata": {},
   "outputs": [
    {
     "data": {
      "text/plain": [
       "Text(0.5, 1.0, 'Feature Importance')"
      ]
     },
     "execution_count": 29,
     "metadata": {},
     "output_type": "execute_result"
    },
    {
     "data": {
      "image/png": "[encoded data removed]",
      "text/plain": [
       "<Figure size 432x288 with 1 Axes>"
      ]
     },
     "metadata": {
      "needs_background": "light"
     },
     "output_type": "display_data"
    }
   ],
   "source": [
    "sns.barplot(x='Importances',y='Feature Id', data=feature_imp)\n",
    "plt.title('Feature Importance')"
   ]
  },
  {
   "cell_type": "code",
   "execution_count": 30,
   "metadata": {},
   "outputs": [
    {
     "data": {
      "text/plain": [
       "0.9555718296106432"
      ]
     },
     "execution_count": 30,
     "metadata": {},
     "output_type": "execute_result"
    }
   ],
   "source": [
    "catmodel2.score(X_val,y_val)"
   ]
  },
  {
   "cell_type": "code",
   "execution_count": 31,
   "metadata": {},
   "outputs": [
    {
     "data": {
      "text/plain": [
       "array([1, 1, 1, ..., 1, 1, 1], dtype=int64)"
      ]
     },
     "execution_count": 31,
     "metadata": {},
     "output_type": "execute_result"
    }
   ],
   "source": [
    "predictions = catmodel2.predict(test)\n",
    "predictions"
   ]
  },
  {
   "cell_type": "markdown",
   "metadata": {},
   "source": [
    "### 2. Balanced data"
   ]
  },
  {
   "cell_type": "code",
   "execution_count": 32,
   "metadata": {},
   "outputs": [],
   "source": [
    "sm = SMOTE(random_state=27)\n",
    "X_bal,y_bal = sm.fit_sample(X,y)"
   ]
  },
  {
   "cell_type": "code",
   "execution_count": 33,
   "metadata": {},
   "outputs": [
    {
     "data": {
      "text/plain": [
       "1    30872\n",
       "0    30872\n",
       "Name: ACTION, dtype: int64"
      ]
     },
     "execution_count": 33,
     "metadata": {},
     "output_type": "execute_result"
    }
   ],
   "source": [
    "y_bal.value_counts()"
   ]
  },
  {
   "cell_type": "markdown",
   "metadata": {},
   "source": [
    "**Logisitic Regression**"
   ]
  },
  {
   "cell_type": "code",
   "execution_count": 34,
   "metadata": {},
   "outputs": [],
   "source": [
    "encoder = OneHotEncoder(drop='first')"
   ]
  },
  {
   "cell_type": "code",
   "execution_count": 35,
   "metadata": {},
   "outputs": [],
   "source": [
    "x_bal = encoder.fit_transform(X_bal)"
   ]
  },
  {
   "cell_type": "code",
   "execution_count": 36,
   "metadata": {},
   "outputs": [],
   "source": [
    "x_train, x_val, y_train, y_val = train_test_split(x_bal, y_bal, test_size=0.25, random_state = 1)"
   ]
  },
  {
   "cell_type": "code",
   "execution_count": 37,
   "metadata": {},
   "outputs": [],
   "source": [
    "classifier = LogisticRegression(solver='liblinear')"
   ]
  },
  {
   "cell_type": "code",
   "execution_count": 38,
   "metadata": {},
   "outputs": [
    {
     "data": {
      "text/plain": [
       "LogisticRegression(solver='liblinear')"
      ]
     },
     "execution_count": 38,
     "metadata": {},
     "output_type": "execute_result"
    }
   ],
   "source": [
    "classifier.fit(x_train,y_train)"
   ]
  },
  {
   "cell_type": "code",
   "execution_count": 39,
   "metadata": {},
   "outputs": [
    {
     "data": {
      "text/plain": [
       "0.9765483285825344"
      ]
     },
     "execution_count": 39,
     "metadata": {},
     "output_type": "execute_result"
    }
   ],
   "source": [
    "classifier.score(x_train,y_train)"
   ]
  },
  {
   "cell_type": "code",
   "execution_count": 40,
   "metadata": {
    "scrolled": true
   },
   "outputs": [
    {
     "data": {
      "text/plain": [
       "0.9578258616221819"
      ]
     },
     "execution_count": 40,
     "metadata": {},
     "output_type": "execute_result"
    }
   ],
   "source": [
    "classifier.score(x_val,y_val)"
   ]
  },
  {
   "cell_type": "markdown",
   "metadata": {},
   "source": [
    "**CatBoost Classifier**"
   ]
  },
  {
   "cell_type": "code",
   "execution_count": 41,
   "metadata": {},
   "outputs": [],
   "source": [
    "X_train, X_val, y_train, y_val = train_test_split(X_bal, y_bal, test_size=0.25, random_state = 1)"
   ]
  },
  {
   "cell_type": "code",
   "execution_count": 42,
   "metadata": {},
   "outputs": [],
   "source": [
    "params = {'loss_function':'Logloss',\n",
    "          'eval_metric':'AUC',\n",
    "          'verbose':100,\n",
    "          'random_seed':1,\n",
    "          'cat_features':categorical_features\n",
    "         }"
   ]
  },
  {
   "cell_type": "code",
   "execution_count": 43,
   "metadata": {},
   "outputs": [
    {
     "name": "stdout",
     "output_type": "stream",
     "text": [
      "Learning rate set to 0.08172\n",
      "0:\ttest: 0.9399464\tbest: 0.9399464 (0)\ttotal: 80.6ms\tremaining: 1m 20s\n",
      "100:\ttest: 0.9921443\tbest: 0.9921443 (100)\ttotal: 15.2s\tremaining: 2m 15s\n",
      "200:\ttest: 0.9927494\tbest: 0.9927494 (200)\ttotal: 30.2s\tremaining: 2m\n",
      "300:\ttest: 0.9928372\tbest: 0.9928414 (293)\ttotal: 45.6s\tremaining: 1m 45s\n",
      "400:\ttest: 0.9928921\tbest: 0.9929159 (354)\ttotal: 1m 3s\tremaining: 1m 34s\n",
      "500:\ttest: 0.9929297\tbest: 0.9929606 (438)\ttotal: 1m 19s\tremaining: 1m 19s\n",
      "600:\ttest: 0.9929932\tbest: 0.9930169 (566)\ttotal: 1m 36s\tremaining: 1m 3s\n",
      "700:\ttest: 0.9929626\tbest: 0.9930225 (663)\ttotal: 1m 51s\tremaining: 47.6s\n",
      "800:\ttest: 0.9929109\tbest: 0.9930225 (663)\ttotal: 2m 6s\tremaining: 31.4s\n",
      "900:\ttest: 0.9928958\tbest: 0.9930225 (663)\ttotal: 2m 19s\tremaining: 15.3s\n",
      "999:\ttest: 0.9928590\tbest: 0.9930225 (663)\ttotal: 2m 35s\tremaining: 0us\n",
      "\n",
      "bestTest = 0.993022461\n",
      "bestIteration = 663\n",
      "\n",
      "Shrink model to first 664 iterations.\n"
     ]
    },
    {
     "data": {
      "text/plain": [
       "<catboost.core.CatBoostClassifier at 0x2449aff9a60>"
      ]
     },
     "execution_count": 43,
     "metadata": {},
     "output_type": "execute_result"
    }
   ],
   "source": [
    "catmodel_bal = CatBoostClassifier(**params)\n",
    "catmodel_bal.fit(X_train,y_train, eval_set = (X_val,y_val), use_best_model=True)"
   ]
  },
  {
   "cell_type": "markdown",
   "metadata": {},
   "source": [
    "**Feature Importance**"
   ]
  },
  {
   "cell_type": "code",
   "execution_count": 44,
   "metadata": {},
   "outputs": [
    {
     "data": {
      "text/html": [
       "<div>\n",
       "<style scoped>\n",
       "    .dataframe tbody tr th:only-of-type {\n",
       "        vertical-align: middle;\n",
       "    }\n",
       "\n",
       "    .dataframe tbody tr th {\n",
       "        vertical-align: top;\n",
       "    }\n",
       "\n",
       "    .dataframe thead th {\n",
       "        text-align: right;\n",
       "    }\n",
       "</style>\n",
       "<table border=\"1\" class=\"dataframe\">\n",
       "  <thead>\n",
       "    <tr style=\"text-align: right;\">\n",
       "      <th></th>\n",
       "      <th>Feature Id</th>\n",
       "      <th>Importances</th>\n",
       "    </tr>\n",
       "  </thead>\n",
       "  <tbody>\n",
       "    <tr>\n",
       "      <th>0</th>\n",
       "      <td>ROLE_ROLLUP_2</td>\n",
       "      <td>20.988172</td>\n",
       "    </tr>\n",
       "    <tr>\n",
       "      <th>1</th>\n",
       "      <td>ROLE_DEPTNAME</td>\n",
       "      <td>18.101551</td>\n",
       "    </tr>\n",
       "    <tr>\n",
       "      <th>2</th>\n",
       "      <td>MGR_ID</td>\n",
       "      <td>12.059362</td>\n",
       "    </tr>\n",
       "    <tr>\n",
       "      <th>3</th>\n",
       "      <td>RESOURCE</td>\n",
       "      <td>11.709697</td>\n",
       "    </tr>\n",
       "    <tr>\n",
       "      <th>4</th>\n",
       "      <td>ROLE_ROLLUP_1</td>\n",
       "      <td>9.513394</td>\n",
       "    </tr>\n",
       "    <tr>\n",
       "      <th>5</th>\n",
       "      <td>ROLE_CODE</td>\n",
       "      <td>7.787905</td>\n",
       "    </tr>\n",
       "    <tr>\n",
       "      <th>6</th>\n",
       "      <td>ROLE_FAMILY_DESC</td>\n",
       "      <td>7.015441</td>\n",
       "    </tr>\n",
       "    <tr>\n",
       "      <th>7</th>\n",
       "      <td>ROLE_TITLE</td>\n",
       "      <td>6.766799</td>\n",
       "    </tr>\n",
       "    <tr>\n",
       "      <th>8</th>\n",
       "      <td>ROLE_FAMILY</td>\n",
       "      <td>6.057678</td>\n",
       "    </tr>\n",
       "  </tbody>\n",
       "</table>\n",
       "</div>"
      ],
      "text/plain": [
       "         Feature Id  Importances\n",
       "0     ROLE_ROLLUP_2    20.988172\n",
       "1     ROLE_DEPTNAME    18.101551\n",
       "2            MGR_ID    12.059362\n",
       "3          RESOURCE    11.709697\n",
       "4     ROLE_ROLLUP_1     9.513394\n",
       "5         ROLE_CODE     7.787905\n",
       "6  ROLE_FAMILY_DESC     7.015441\n",
       "7        ROLE_TITLE     6.766799\n",
       "8       ROLE_FAMILY     6.057678"
      ]
     },
     "execution_count": 44,
     "metadata": {},
     "output_type": "execute_result"
    }
   ],
   "source": [
    "feature_imp_bal = catmodel_bal.get_feature_importance(prettified=True)\n",
    "feature_imp_bal"
   ]
  },
  {
   "cell_type": "code",
   "execution_count": 45,
   "metadata": {},
   "outputs": [
    {
     "data": {
      "text/plain": [
       "Text(0.5, 1.0, 'Feature Importance')"
      ]
     },
     "execution_count": 45,
     "metadata": {},
     "output_type": "execute_result"
    },
    {
     "data": {
      "image/png": "[encoded data removed]",
      "text/plain": [
       "<Figure size 432x288 with 1 Axes>"
      ]
     },
     "metadata": {
      "needs_background": "light"
     },
     "output_type": "display_data"
    }
   ],
   "source": [
    "sns.barplot(x='Importances',y='Feature Id', data=feature_imp_bal)\n",
    "plt.title('Feature Importance')"
   ]
  },
  {
   "cell_type": "code",
   "execution_count": 46,
   "metadata": {},
   "outputs": [
    {
     "data": {
      "text/plain": [
       "0.9922043707350782"
      ]
     },
     "execution_count": 46,
     "metadata": {},
     "output_type": "execute_result"
    }
   ],
   "source": [
    "catmodel_bal.score(X_train,y_train)"
   ]
  },
  {
   "cell_type": "code",
   "execution_count": 47,
   "metadata": {},
   "outputs": [
    {
     "data": {
      "text/plain": [
       "0.9727260948432236"
      ]
     },
     "execution_count": 47,
     "metadata": {},
     "output_type": "execute_result"
    }
   ],
   "source": [
    "catmodel_bal.score(X_val,y_val)"
   ]
  },
  {
   "cell_type": "code",
   "execution_count": 48,
   "metadata": {},
   "outputs": [
    {
     "data": {
      "text/plain": [
       "array([1, 1, 1, ..., 1, 1, 1], dtype=int64)"
      ]
     },
     "execution_count": 48,
     "metadata": {},
     "output_type": "execute_result"
    }
   ],
   "source": [
    "predictions_bal = catmodel_bal.predict(test)\n",
    "predictions_bal"
   ]
  },
  {
   "cell_type": "markdown",
   "metadata": {},
   "source": [
    "### 3. Using class weights"
   ]
  },
  {
   "cell_type": "code",
   "execution_count": 49,
   "metadata": {},
   "outputs": [
    {
     "name": "stdout",
     "output_type": "stream",
     "text": [
      "Learning rate set to 0.08172\n",
      "0:\ttest: 0.7275227\tbest: 0.7275227 (0)\ttotal: 75.8ms\tremaining: 1m 15s\n",
      "100:\ttest: 0.9910920\tbest: 0.9910920 (100)\ttotal: 13.8s\tremaining: 2m 3s\n",
      "200:\ttest: 0.9914424\tbest: 0.9914499 (159)\ttotal: 30.8s\tremaining: 2m 2s\n",
      "300:\ttest: 0.9918500\tbest: 0.9918500 (300)\ttotal: 46.3s\tremaining: 1m 47s\n",
      "400:\ttest: 0.9919042\tbest: 0.9919139 (396)\ttotal: 1m 5s\tremaining: 1m 38s\n",
      "500:\ttest: 0.9920011\tbest: 0.9920011 (500)\ttotal: 1m 24s\tremaining: 1m 23s\n",
      "600:\ttest: 0.9921088\tbest: 0.9921102 (596)\ttotal: 1m 42s\tremaining: 1m 7s\n",
      "700:\ttest: 0.9920717\tbest: 0.9921305 (615)\ttotal: 1m 58s\tremaining: 50.5s\n",
      "800:\ttest: 0.9921192\tbest: 0.9921305 (615)\ttotal: 2m 16s\tremaining: 34s\n",
      "900:\ttest: 0.9921944\tbest: 0.9922088 (854)\ttotal: 2m 34s\tremaining: 17s\n",
      "999:\ttest: 0.9922772\tbest: 0.9922842 (969)\ttotal: 2m 50s\tremaining: 0us\n",
      "\n",
      "bestTest = 0.9922842481\n",
      "bestIteration = 969\n",
      "\n",
      "Shrink model to first 970 iterations.\n"
     ]
    },
    {
     "data": {
      "text/plain": [
       "<catboost.core.CatBoostClassifier at 0x2449b425820>"
      ]
     },
     "execution_count": 49,
     "metadata": {},
     "output_type": "execute_result"
    }
   ],
   "source": [
    "params = {'loss_function':'Logloss',\n",
    "          'eval_metric':'AUC',\n",
    "          'verbose':100,\n",
    "          'random_seed':1,\n",
    "          'cat_features':categorical_features,\n",
    "          'scale_pos_weight':1897/30872\n",
    "         }\n",
    "catmodel = CatBoostClassifier(**params)\n",
    "catmodel.fit(X_train,y_train, eval_set = (X_val,y_val), use_best_model=True)"
   ]
  },
  {
   "cell_type": "code",
   "execution_count": 50,
   "metadata": {},
   "outputs": [
    {
     "data": {
      "text/plain": [
       "0.9850349831562581"
      ]
     },
     "execution_count": 50,
     "metadata": {},
     "output_type": "execute_result"
    }
   ],
   "source": [
    "catmodel.score(X_train,y_train)"
   ]
  },
  {
   "cell_type": "code",
   "execution_count": 51,
   "metadata": {},
   "outputs": [
    {
     "data": {
      "text/plain": [
       "0.959639803057787"
      ]
     },
     "execution_count": 51,
     "metadata": {},
     "output_type": "execute_result"
    }
   ],
   "source": [
    "catmodel.score(X_val,y_val)"
   ]
  },
  {
   "cell_type": "code",
   "execution_count": 52,
   "metadata": {},
   "outputs": [
    {
     "data": {
      "text/plain": [
       "array([1, 1, 1, ..., 1, 1, 1], dtype=int64)"
      ]
     },
     "execution_count": 52,
     "metadata": {},
     "output_type": "execute_result"
    }
   ],
   "source": [
    "predictions_cw = catmodel_bal.predict(test)\n",
    "predictions_cw"
   ]
  }
 ],
 "metadata": {
  "kernelspec": {
   "display_name": "Python 3",
   "language": "python",
   "name": "python3"
  },
  "language_info": {
   "codemirror_mode": {
    "name": "ipython",
    "version": 3
   },
   "file_extension": ".py",
   "mimetype": "text/x-python",
   "name": "python",
   "nbconvert_exporter": "python",
   "pygments_lexer": "ipython3",
   "version": "3.8.5"
  }
 },
 "nbformat": 4,
 "nbformat_minor": 4
}
