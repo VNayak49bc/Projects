{
 "cells": [
  {
   "cell_type": "markdown",
   "metadata": {},
   "source": [
    "## Instructions:\n",
    "### 1. In case of error, just run the cell again. All the codes work but slow internet speed can lead to errors.\n",
    "### 2. The code doesn't maximize the window."
   ]
  },
  {
   "cell_type": "code",
   "execution_count": 1,
   "metadata": {},
   "outputs": [],
   "source": [
    "## Importing Libraries\n",
    "\n",
    "import time\n",
    "import numpy as np\n",
    "import pandas as pd\n",
    "import matplotlib.pyplot as plt\n",
    "from selenium import webdriver\n",
    "from selenium.webdriver.support.ui import WebDriverWait\n",
    "from selenium.webdriver.support import expected_conditions as EC\n",
    "from selenium.webdriver.common.by import By\n",
    "from selenium.common.exceptions import NoSuchElementException,TimeoutException,StaleElementReferenceException"
   ]
  },
  {
   "cell_type": "code",
   "execution_count": 2,
   "metadata": {},
   "outputs": [],
   "source": [
    "# Enter the location of your webdriver\n",
    "\n",
    "location = 'Enter the location of the web driver'\n",
    "driver = webdriver.Chrome(location)"
   ]
  },
  {
   "cell_type": "code",
   "execution_count": 3,
   "metadata": {},
   "outputs": [],
   "source": [
    "# Going to instagram login page\n",
    "\n",
    "driver.get('https://www.instagram.com/')\n",
    "wait=WebDriverWait(driver,10).until(EC.presence_of_element_located((By.NAME,'password')))"
   ]
  },
  {
   "cell_type": "code",
   "execution_count": 4,
   "metadata": {},
   "outputs": [],
   "source": [
    "# Function to login using SAMPLE_USERNAME and SAMPLE_PASSWORD\n",
    "\n",
    "def login(username,password):\n",
    "    \n",
    "    name = driver.find_element_by_name('username')\n",
    "    name.send_keys(username)                       #sending username\n",
    "    \n",
    "    password = driver.find_element_by_name('password') \n",
    "    password.send_keys(passwd)                     #sending password  \n",
    "    \n",
    "    driver.find_element_by_xpath('//*[@id=\"loginForm\"]/div/div[3]/button').click()    #clicking Log-in\n",
    "    WebDriverWait(driver,10).until(EC.presence_of_element_located((By.XPATH,\n",
    "                                                                   '//*[@id=\"react-root\"]/section/main/div/div/div/div/button')))\n",
    "    pass"
   ]
  },
  {
   "cell_type": "code",
   "execution_count": 5,
   "metadata": {},
   "outputs": [],
   "source": [
    "# Fuction to find and list the Instagram Names that appear the after the search\n",
    "def searchandlist(word,number = 'all'):\n",
    "    \n",
    "    ans = []\n",
    "    #searching word\n",
    "    driver.find_element_by_xpath('//*[@id=\"react-root\"]/section/nav/div[2]/div/div/div[2]/input').send_keys(word)  \n",
    "    \n",
    "    WebDriverWait(driver, 30).until(EC.presence_of_element_located((By.XPATH, '//a[@class=\"yCE8d  \"]/div/div[2]/div/span')))\n",
    "    elements = driver.find_elements_by_xpath('//a[@class=\"yCE8d  \"]/div/div[2]/div/span')\n",
    "    \n",
    "    if number=='all':\n",
    "        number = len(elements)\n",
    "    num = number\n",
    "    for i in elements[:number]:\n",
    "        word_ = i.get_attribute('innerHTML')\n",
    "        if word_ == 'food':  # in case food appears in the list we will add the last+1 element instead of this element\n",
    "            word_ = elements[num].get_attribute('innerHTML')\n",
    "            ans.append(word_)\n",
    "            num += 1\n",
    "            continue\n",
    "        ans.append(word_)     \n",
    "    return ans  "
   ]
  },
  {
   "cell_type": "code",
   "execution_count": 6,
   "metadata": {},
   "outputs": [],
   "source": [
    "def searchandopen(word):\n",
    "    \n",
    "    #searching the word\n",
    "    path = '//*[@id=\"react-root\"]/section/nav/div[2]/div/div/div[2]/input'\n",
    "    WebDriverWait(driver, 30).until(EC.presence_of_element_located((By.XPATH,path)))\n",
    "    driver.find_element_by_xpath(path).send_keys(word)\n",
    "    WebDriverWait(driver, 30).until(EC.presence_of_element_located((By.CLASS_NAME, \"yCE8d  \")))\n",
    "    driver.find_element_by_class_name(\"yCE8d  \").click() #selecting the option\n",
    "    \n",
    "    pass"
   ]
  },
  {
   "cell_type": "code",
   "execution_count": 7,
   "metadata": {},
   "outputs": [],
   "source": [
    "def top_5(insta_handles):\n",
    "\n",
    "    name = []\n",
    "    numberoffollowers = []\n",
    "    \n",
    "    for i in range(len(insta_handles)):\n",
    "        \n",
    "        time.sleep(2)\n",
    "\n",
    "        searchandopen(insta_handles[i])  #searching and opening the handle page\n",
    "        \n",
    "        time.sleep(2)\n",
    "        Numberoffollowers = 0\n",
    "        try:\n",
    "            time.sleep(2)\n",
    "            \n",
    "            str_num = 0\n",
    "\n",
    "            path = '//*[@id=\"react-root\"]/section/main/div/header/section/ul/li[2]/a/span'\n",
    "            \n",
    "            WebDriverWait(driver, 10).until(EC.presence_of_element_located((By.XPATH,path)))\n",
    "            \n",
    "            str_num = driver.find_element_by_xpath(path).get_attribute('title')  #getting the number of followers as a string\n",
    "            \n",
    "            Numberoffollowers = int(float(''.join((str_num.split(','))))) #converting the above string to number which helps in \n",
    "                                                                          #finding the top5\n",
    "        except TimeoutException:\n",
    "            Numberoffollowers = 0\n",
    "\n",
    "        numberoffollowers.append(Numberoffollowers)\n",
    "        name.append(insta_handles[i])\n",
    "    \n",
    "    driver.find_element_by_xpath('//*[@id=\"react-root\"]/section/nav/div[2]/div/div/div[1]/a/div').click()    #return to home\n",
    "    # the above step is taken in case the last element has the highest number of followers\n",
    "    ans = [name[i] for i in np.argsort(-1*np.array(numberoffollowers))] #sorting the handles based on number of followers\n",
    "    numberoffollowers = [numberoffollowers[i] for i in np.argsort(-1*np.array(numberoffollowers))] \n",
    "    return ans[:5],numberoffollowers[:5]"
   ]
  },
  {
   "cell_type": "code",
   "execution_count": 8,
   "metadata": {},
   "outputs": [],
   "source": [
    "# I have made a single function that scraps everything required in one go.\n",
    "def info(list_):\n",
    "    \n",
    "    number_of_posts = {}\n",
    "    content_ = {}\n",
    "    numberoflikes = {}\n",
    "    avg_likes = {}\n",
    "    \n",
    "    months = ['january','february','march','april','may','june', 'july', 'august','september','october','november','december']\n",
    "    #months are used to check the post date\n",
    "    \n",
    "    for i in list_:\n",
    "        \n",
    "        content_[i] = []\n",
    "        numberoflikes[i] = []\n",
    "        flag = False \n",
    "        \n",
    "        time.sleep(2)\n",
    "        searchandopen(i) #searching and opening the handle page\n",
    "        \n",
    "        time.sleep(2)\n",
    "        \n",
    "        path = '//div[contains(@class, \"Nnq7C\")]//div/a'\n",
    "        \n",
    "        \n",
    "        driver.execute_script('window.scrollBy(0,5000);')\n",
    "        \n",
    "        time.sleep(2)\n",
    "        \n",
    "        driver.execute_script('window.scrollTo(0,-document.body.scrollHeight);')\n",
    "        \n",
    "        WebDriverWait(driver, 30).until(EC.presence_of_element_located((By.XPATH,path)))\n",
    "        x = driver.find_elements_by_xpath(path)\n",
    "        n = 0 # count of number of posts in the last 3 days(today, yesterday and day before yesterday)\n",
    "        k = 1 # count of elements\n",
    "        for j in x:\n",
    "            \n",
    "            time.sleep(2)\n",
    "            j.click() # opening the post\n",
    "            \n",
    "            ### counting the number of posts\n",
    "            path = '/html/body/div[5]/div[2]/div/article/div[3]/div[2]/a/time'\n",
    "            WebDriverWait(driver, 30).until(EC.presence_of_element_located((By.XPATH,path)))\n",
    "            time_ =  driver.find_element_by_xpath(path).get_attribute('innerHTML').split()\n",
    "            t1 = time_[0]\n",
    "            t2 = time_[1].lower()\n",
    "            \n",
    "            if t1.lower() in months: # the current was posted a while back  \n",
    "                flag = True \n",
    "            elif (int(float(t1))>=3 and t2 == 'days'): # the current post was posted more than 3 days ago\n",
    "                flag = True                \n",
    "            else:\n",
    "                n += 1\n",
    "                \n",
    "                \n",
    "            ### getting the content & the number of likes \n",
    "            if k <= 10:\n",
    "                \n",
    "                k += 1\n",
    "                ### getting the content\n",
    "                path = '/html/body/div[5]/div[2]/div/article/div[3]/div[1]/ul/div/li/div/div/div[2]/span'\n",
    "                WebDriverWait(driver, 30).until(EC.presence_of_element_located((By.XPATH,path)))\n",
    "                content_[i].append(driver.find_element_by_xpath(path).text)\n",
    "                \n",
    "                ### getting the number of likes\n",
    "                path = '/html/body/div[5]/div[2]/div/article/div[3]/section[2]/div'\n",
    "                WebDriverWait(driver, 30).until(EC.presence_of_element_located((By.XPATH,path)))\n",
    "                num_str, text = driver.find_element_by_xpath(path).text.split()\n",
    "                \n",
    "                if text == 'views': # if true, we need to click this element to get the number of likes\n",
    "                    driver.find_element_by_xpath('/html/body/div[5]/div[2]/div/article/div[3]/section[2]/div/span').click()\n",
    "                    num_str = driver.find_element_by_xpath('/html/body/div[5]/div[2]/div/article/div[3]/section[2]/div/div/div[4]').text.split()[0]\n",
    "                    driver.find_element_by_xpath(\"/html/body/div[5]/div[2]/div/article/div[3]/section[2]/div/div/div[1]\").click()\n",
    "                    \n",
    "                numberoflikes[i].append(int(float(''.join((num_str.split(','))))))\n",
    "                \n",
    "            \n",
    "            if flag and k>10: # flag is false until we reach the last post that was posted in the last three days.\n",
    "                              # We need 10 posts for contents and likes but they may not have been posted in last 3 days \n",
    "                              # Also the number of posts in the last three days may be more than 10.\n",
    "                driver.find_element_by_xpath(\"//*[name()='svg'][@aria-label='Close']\").click()\n",
    "                break\n",
    "        \n",
    "            driver.find_element_by_xpath(\"//*[name()='svg'][@aria-label='Close']\").click()  # closing the post\n",
    "        \n",
    "        avg_likes[i] = sum(numberoflikes[i])/10           # avg number of likes\n",
    "        number_of_posts[i] = n                          # number of posts\n",
    "        \n",
    "    return number_of_posts,content_,numberoflikes,avg_likes"
   ]
  },
  {
   "cell_type": "code",
   "execution_count": 9,
   "metadata": {},
   "outputs": [],
   "source": [
    "# Enter your username and password\n",
    "\n",
    "username = 'SAMPLE_USERNAME'\n",
    "passwd = 'SAMPLE_PASSWORD'\n",
    "login(username,passwd)"
   ]
  },
  {
   "cell_type": "code",
   "execution_count": 10,
   "metadata": {},
   "outputs": [],
   "source": [
    "# Dismissing the early notifications\n",
    "# Comment out if no such early notifications popup \n",
    "\n",
    "driver.find_element_by_xpath('//*[@id=\"react-root\"]/section/main/div/div/div/div/button').click()\n",
    "WebDriverWait(driver, 30).until(EC.presence_of_element_located((By.CLASS_NAME, \"HoLwm\")))\n",
    "driver.find_element_by_class_name('HoLwm').click()"
   ]
  },
  {
   "cell_type": "code",
   "execution_count": 11,
   "metadata": {},
   "outputs": [],
   "source": [
    "# Enter the word to search\n",
    "\n",
    "word = 'food'\n",
    "top10 = searchandlist(word,10)"
   ]
  },
  {
   "cell_type": "code",
   "execution_count": 12,
   "metadata": {},
   "outputs": [
    {
     "data": {
      "text/plain": [
       "['foodnetwork',\n",
       " 'food_for_tee',\n",
       " 'manoharfoods',\n",
       " 'food52',\n",
       " 'best_foody1',\n",
       " 'sailusfood',\n",
       " 'foodsandflavoursbyshilpi',\n",
       " 'food.darzee',\n",
       " 'yourfoodlab',\n",
       " 'food.khana']"
      ]
     },
     "execution_count": 12,
     "metadata": {},
     "output_type": "execute_result"
    }
   ],
   "source": [
    "top10"
   ]
  },
  {
   "cell_type": "code",
   "execution_count": 13,
   "metadata": {},
   "outputs": [],
   "source": [
    "# Clearing the search box\n",
    "\n",
    "driver.find_element_by_xpath('//*[@id=\"react-root\"]/section/nav/div[2]/div/div/div[2]/div[2]').click()"
   ]
  },
  {
   "cell_type": "markdown",
   "metadata": {},
   "source": [
    "# Question 1\n",
    "## 1.Top 5 Instagram Handle"
   ]
  },
  {
   "cell_type": "code",
   "execution_count": 14,
   "metadata": {},
   "outputs": [
    {
     "name": "stdout",
     "output_type": "stream",
     "text": [
      "The foodnetwork has 10992503 followers\n",
      "The food52 has 3004364 followers\n",
      "The yourfoodlab has 1550338 followers\n",
      "The food.darzee has 88834 followers\n",
      "The sailusfood has 59124 followers\n"
     ]
    }
   ],
   "source": [
    "top5,followers = top_5(top10)\n",
    "for i in range(5):\n",
    "    print('The {} has {} followers'.format(top5[i],followers[i]))"
   ]
  },
  {
   "cell_type": "markdown",
   "metadata": {},
   "source": [
    "## 2.Number of posts in the previous 3 days"
   ]
  },
  {
   "cell_type": "code",
   "execution_count": 15,
   "metadata": {},
   "outputs": [],
   "source": [
    "number_of_posts,content_,numberoflikes,avg_likes = info(top5)"
   ]
  },
  {
   "cell_type": "code",
   "execution_count": 16,
   "metadata": {},
   "outputs": [
    {
     "name": "stdout",
     "output_type": "stream",
     "text": [
      "Instagram Handle foodnetwork has posted 12 times in last three days\n",
      "Instagram Handle food52 has posted 11 times in last three days\n",
      "Instagram Handle yourfoodlab has posted 3 times in last three days\n",
      "Instagram Handle food.darzee has posted 3 times in last three days\n",
      "Instagram Handle sailusfood has posted 0 times in last three days\n"
     ]
    }
   ],
   "source": [
    "for i in number_of_posts.keys():\n",
    "    print('Instagram Handle {} has posted {} times in last three days'.format(i,number_of_posts[i]))"
   ]
  },
  {
   "cell_type": "markdown",
   "metadata": {},
   "source": [
    "## 3.Graph"
   ]
  },
  {
   "cell_type": "code",
   "execution_count": 17,
   "metadata": {},
   "outputs": [
    {
     "data": {
      "image/png": "[encoded data removed]",
      "text/plain": [
       "<Figure size 576x360 with 1 Axes>"
      ]
     },
     "metadata": {
      "needs_background": "light"
     },
     "output_type": "display_data"
    }
   ],
   "source": [
    "x = [1,2,3,4,5]\n",
    "y = [i for i in number_of_posts.values() ]\n",
    "plt.figure(figsize=(8,5))\n",
    "plt.bar(x,y,color = 'rbgyc')\n",
    "plt.grid()\n",
    "for i in range(len(x)):\n",
    "    plt.text(x[i],y[i]+0.1,y[i])\n",
    "plt.xticks(x,number_of_posts.keys())#,rotation=45)\n",
    "plt.xlabel('\\n Top 5 food bloggers',fontsize = 11)\n",
    "plt.ylabel('Number of posts is last 3 days',fontsize = 11)\n",
    "plt.title('Number of posts made by top food bloggers in last 3 days \\n',fontsize = 12)\n",
    "plt.show()"
   ]
  },
  {
   "cell_type": "markdown",
   "metadata": {},
   "source": [
    "# Question 2\n",
    "## 1.Scrapping the first 10 posts of  the above handles"
   ]
  },
  {
   "cell_type": "code",
   "execution_count": 18,
   "metadata": {},
   "outputs": [
    {
     "name": "stdout",
     "output_type": "stream",
     "text": [
      "['Fight for the Deep-Fryer (w/ @ManeetChauhan & @ChefMarcMurphy)\\n\\nManeet and Marc battle it out for the deep-fryer in the next round of the #Chopped Grudge Match tournament!\\n\\nThe competition continues TONIGHT at 9|8c.', \"What could make baby ravioli even cuter? Pink sauce... duh! 💖 \\u2060\\n\\u2060\\nClick the link in our bio to subscribe to @discoveryplus to stream more #GiadaEntertains and much more. #discoveryplus\\u2060\\n\\u2060\\nFind the recipe for @GiadaDeLaurentiis' Cheese Ravioletti in Pink Sauce on FoodNetwork.com!\", 'Lasagna is our love language — ESPECIALLY when pesto is involved! 💚\\n. . .\\nSearch for \"Pesto Lasagna Rolls\" on FoodNetwork.com for the recipe!', 'You heard it first! @InaGarten and @MelissaMcCarthy are joining forces for an exciting @discoveryplus special! Join them for cocktails and a unique 1-on-1 conversation fueled by questions submitted by YOU, the fans! Head to Ina and Melissa’s profiles now to send in your questions.', 'Recipe of the Day: Jumbo Cheesy Italian Meatballs 🤤 Click the link in our bio to get the recipe!', \"The more cheese and bacon... the BETTER 🧀🥓 Especially when we're talking about these loaded grilled potatoes!\\u2060\\n\\u2060\\nClick the link in our bio to get the recipe!\", \"Believe it or not, a classic New York City Egg Cream doesn't have eggs OR cream in it! But some do have chocolate 🍫 Have you ever tried one?\\u2060\\n\\u2060\\nCatch @Guarnaschelli host a new episode of #SupermarketStakeout, tonight at 10|9c!\\u2060\\n\\u2060\\nClick the link in our bio to get the recipe.\", 'This baby penguin cake is TOO COOL, @chelsweets! 🐧❄️', 'Beefed-Up Charred Veggie and Cheese Grits\\n\\n@sunnyanderson takes this cheesy Southern classic to new heights 👏\\n\\nWatch #TheKitchen > Saturdays at 11a|10c and subscribe to @discoveryplus to stream even more episodes of #TheKitchen: http://discoverypl.us/2WTJXI2. #discoveryplus\\n\\nGet the recipe: http://foodtv.com/3sEJgRs (Head to our IGTV for the clickable links!)', '@DuffGoldman & @WolfiesMom challenge the remaining kid bakers to make desserts with a balanced hit of sweet, savory, bitter and sour from Chinese five-spice powder on an all-new #KidsBakingChampionship NEXT at 9|8c!']\n",
      "\n",
      "___________________________________________________________________________________________________________\n",
      "\n",
      "[\"You know those occasions when you need a slam dunk dessert but you don't have a lot of time? @posiehh has just the thing: Magic Cookie Bars. Ready the graham crackers and chocolate chips, because you're half an hour away from deliciousness. Recipe at the link in bio. #f52community\", \"Ever wondered if there was a hack for making quicker and even tastier egg salad? Spoiler alert: There is one! Today, @miglorious is here to show you @ideasinfood’s genius Fried Egg Salad technique that doesn't require any peeling (!!!). Make it for yourself at the link in bio. #f52community\", \"Raise your hand if you've been in a bit of a cooking rut lately. 🙋🏽\\u200d♀️🙋🏻\\u200d♂️🙋🏼\\u200d♀️🙋🏾\\u200d♂️ It happens, but we're here to help! This week, we're sharing all of our favorite easy and breezy meals (tag us using #f52community) for the nights when you just want to do the bare minimum (but don't want to skip out on flavor). Up first we have these three one-pot chicken wonders from @alidaryder, @easychickenrecipes, and @emmalaperruque (snag her recipe at the link in bio!). #f52grams\", 'Choose Your Own Recipe Adventure - Episode 2\\n\\nYou know the drill! @wikapadia is back for the second episode of Choose Your Own Recipe Adventure. This week, she had to combine the ingredients you chose—shrimp, miso, and couscous—into a lip-smacking dish in 12 minutes or less. Can she do it? Well, watch along to find out! And stay tuned to our stories for the next Choose Your Own Recipe Adventure poll.', \"A fried egg on its own is an ideal way to start the day. Add a ginger-garlic crisp on top, and things get even better! But, pair them with lush and creamy greens, which bring comfort in their smoothness, and you've taken your breakfast (or lunch!) to a whole new level. If all of the above sounds good to you, head to the link in our bio and try @shilpauskokovic's recipe for yourself. 📸: @tymecham #f52community\", 'Combine an iconic, fifties-inspired look, heaps of modern perks (six heat levels, three modes, backlit knob, etc.), and two roomy slots—perfect for four slices from a standard loaf or two from an artisan-style bread—and what do you get? The one and only SMEG toaster, here to take your toast to the next level. Head to the link in our bio to get yours. 📸: @rockyluten', \"A lil' @foodminimalist trio to round out your weekend. ✨ #f52community #f52grams\", \"Frijoles Charros was one of the first recipes @jamarmel's mom taught him. Though frijoles charros are traditionally made with bacon, this recipe uses smoked pork hocks for even more flavor (because who could say no to that?!). Make for yourself at the link in bio! 📸: @tymecham #f52community\", 'Pork Noodles with Mandy Lee - At Home With Us\\n\\nPrepare to witness some gluten-free noodle magic! Today, @ladyandpups is sharing how to make Pork Noodles with Alfredo Sauce and when we say \"pork noodles\" we literally mean noodles made from pork. Yup, lean protein is broken down and combined with tapioca flour and cornstarch to make for an extra bouncy, flavorful, and chewy noodle. Grab the recipe at the link in bio! #f52community', \"We’ve all been there: you open your crisper drawer and discover the saddest, squishiest carrot rolling around all alone. Vejibags are here to change that. These 100% organic cotton bags—a super-soft french terry—are one of the eco-friendliest ways we've found to store produce so its stays fresh and crispy for longer. Link in bio. 📸: @rockyluten\"]\n",
      "\n",
      "___________________________________________________________________________________________________________\n",
      "\n",
      "['Aloo Pyaaz Ki Kachori by Chef @sanjyotkeer\\n.\\n.\\n.\\n#recipe #foodie #foodporn #foodstagram #streetfood #mumbaistreetfood #foodphotography #mumbai_ig', 'Masala Dosa & Masala Uttapam Recipe Recipe is out now on YouTube and Facebook! Check it out now!\\n\\nI am a Mumbai boy and Mumbai street food is really close to my heart. This is where I learnt cooking and street food has been my inspiration to start cooking. My first YFL recipe was a pizza dosa 5 years back and I remember being a witness to the dosa evolution in Mumbai and I love it all. When I was in school I remember printing menu cards and giving innovative dosa ideas to the dosa vendor close to my house, I must be in the 6th grade and he did start selling the noodle dosa back then. Today he cooks over 100 dosa varieties and I still visit him to enjoy dosas.\\nThe vendors in Mumbai use a different kind of batter which has a different texture and taste to it which differs to the restaurant and home versions. I researched and reached to a point where the dosa batter is quite similar to the one they use it one the streets. Try this recipe and it’s super simple to do. I am sure this would belong to some region which I haven’t researched yet, I will try and research that as well. Hope you like the recipe when you try it out.\\nThough nothing can beat the experience of dosa being cooked on coal fire and that chilled chutney, what an experience.!\\n.\\n.\\n.\\n#recipe #foodie #dosa #uttapam #streetfood #streetsofindia #mumbaistreetfood #mumbaistreets #foodporn #foodiesofinstagram #sanjyotkeer', 'Paneer Angara by Chef @sanjyotkeer\\n.\\n.\\n.\\n#paneer #paneerrecipes #paneerlover #paneerlove #indiancuisine #streetfood #indianfood #sanjyotkeer', 'Trending wrap hack #1 Aloo Tikki wrap! Will be uploading 5 more of these crazy wrap ideas. Stay tuned ✌️\\n.\\n.\\n.\\n#reeitfeelit #reelkarofeelkaro #reelsinstagram #foodstagram #tortilla #wraphack #tortillawrap #food #hack #hackvideo', 'Cheesy Tava Paneer Hot Dog by Chef @sanjyotkeer\\n\\n.\\n.\\nThis is an amazing recipe and it is adaptation of my precious masala paneer hot dog recipe which also is an adaptation of an hot dog I used to have in my school canteen. I juta got this idea that we could make it even better and the sautéed caramozed onions and the cheesy sauce do the trick. Try this recipe and I am sure you guys will love it! Cheers!\\n\\n.\\n#recipeoftheday #recipes #food #hotdog #hotdoglovers #streetfood #foodporn #yummy #yummlicious #cheesyfood #cheesy #frieslover #sanjyotkeer', 'Cheesy Tava Paneer Hot Dog Recipe is out now on YouTube and Facebook! Check it out now!\\n.\\n.\\n\\nThis is an amazing recipe and it is adaptation of my precious masala paneer hot dog recipe which also is an adaptation of an hot dog I used to have in my school canteen. I juta got this idea that we could make it even better and the sautéed caramozed onions and the cheesy sauce do the trick. Try this recipe and I am sure you guys will love it! Cheers!\\n\\n.\\n#recipeoftheday #recipes #food #hotdog #hotdoglovers #streetfood #foodporn #yummy #yummlicious #cheesyfood #cheesy #frieslover #sanjyotkeer', 'Aloo Tikki Makhani Sizzler by Chef @sanjyotkeer\\n\\n.\\n.\\n.\\nI just love sizzlers and especially when it’s winters, that hot smoky sizzler is something you will enjoy the most. I have had many variations but this idea suddenly struck me and I had to give it a try. The aloo tikki and makhani come really well together. You can also replace it with paneer or chicken to make a butter chicken version!\\nDo try this unique recipe idea and let me know how you guys liked it! Cheers!\\n.\\n.\\n#sizzlers #vegetarian #vegetarianrecipes #vegsizzler #foodporn #foodstagram #recipeoftheday #easyrecipe #alootikki #aloorecipes #sanjyotkeer #mumbai_ig', 'Malai Kofta by Chef @sanjyotkeer\\n.\\n.\\n.\\n#recipe #foodie #indiancuisine #streetfood #indianfood #foodporn #streetfoodlover #kofta #koftacurry #sanjyotkeer', 'Aloo Tikki Makhani Sizzler Recipe is out now on YouTube and Facebook! Check it out now!\\n.\\n.\\n.\\n\\nI just love sizzlers and especially when it’s winters, that hot smoky sizzler is something you will enjoy the most. I have had many variations but this idea suddenly struck me and I had to give it a try. The aloo tikki and makhani come really well together. You can also replace it with paneer or chicken to make a butter chicken version!\\nDo try this unique recipe idea and let me know how you guys liked it! Cheers!\\n.\\n.\\n#sizzlers #vegetarian #vegetarianrecipes #vegsizzler #foodporn #foodstagram #recipeoftheday #easyrecipe #alootikki #aloorecipes #sanjyotkeer #mumbai_ig', 'Matar Paneer Recipe by Chef @sanjyotkeer\\n\\n.\\n.\\n.\\nGreen peas are in season and I was getting a lot of requests for Matar paneer as it is widely made everywhere. There was a specific request for dhaba style Matar paneer so here it is. Tried to keep it simple but the taste is just out of the world! Really amazing.\\nTry the recipe with tandoori roti or laccha paratha to get the dhaba vibe. Please use fresh green peas and not frozen ones, as nothing cant be better than these fresh green pearls.\\n.\\n.\\n.\\n#recipe #paneerrecipes #paneer #paneerlovers #food #foodie #foodiesofinstagram #foodporn #streetfood #dhabastyle #dhabafood #sanjyotkeer']\n",
      "\n",
      "___________________________________________________________________________________________________________\n",
      "\n",
      "['Let’s pledge to make our nutrition a priority! #HappyRepublicDay\\n#republicday #republicday2021 #fooddarzee', 'Shaped like mini- trees broccoli is a super veggie! Its filled with essential minerals and rich in vitamin C. Enriched with anti-oxidants, it also helps to reduce inflammation in our body. Stir fry it with some olive oil and it can be the most nutritious side to any meal.\\n\\n#broccoli #broccolilover #superveggie #vitaminc #healthymeals #antioxidants #healthytummy #healthyfood #healthyveggies #healthforyou #wearehereforyou #fooddarzee', 'Whether you are a morning person or not, working out can prove to be very beneficial for your mind and body. But don’t forget to supplement it with food that is nutritious. Call our nutritionists who will guide you with what foods to consume and when. #coacheddarzee\\n\\n#morningworkout #eveningworkout #healthfacts #factsdaily #factoftheday #workoutmotivation #workoutbenefits #coacheddarzee #foodarzee', 'Using the perfect Indian spices and chatpatta masalas, our Dum Biryani is every Indian’s love. As compared to a regular biryani, this one is low on carbs and high on protein as we use healthier substitutes instead on regular rice. To know more subscribe to fooddarzee.com\\n\\n#dumbiryani #healthybiryani #biryanilovers #biryanikhaoge #desimasala #indianspices #healthyfood #healthyeating #tastyfood #foodmadewithlove #foodmadeforyou #wearehereforyou #fooddarzee', 'While consuming protein rich foods can help control your carb consumption, it can still lead to weight gain if not paired with the right kind of fitness activity. Call our consultants who can help you with what foods will work best for you. Subscribe to Coached Darzee today!\\n\\n#highprotienmeal #richfoods #healthylifestyle #healthy2021 #protienfood #weightgain #musclebuilding #healthyeating #nutrition #coacheddarzee #fooddarzee', 'Even Bernie Sanders knows that it is boring to spend hours cooking in the kitchen, when you can get all your meals delivered fresh to your doorstep, everyday!\\n\\n#berniesanders #berniesandersmemes #kitchencooking #freshdaily #freshmeals #healthymeals #healthy2021 #healthymemes #foodmemes #foodforlife #fooddarzee', \"When someone says Malai Chicken Tikka, doesn't it make your mouth water? But then do you hesitate to eat eat because of the calories. Well fear not! The cream and chicken are perfect if you are on a keto diet as it provides the right amount of protein!\\n#ChickenTikka #MalaiTikka #Protein #KetoFriendlyMeals #ketomeals #eathealthy\", 'Paneer is one of the most rich sources of protein that can be included in your diet. Mixed with some veggies and marinated in Kung Pao Sauce, it makes the perfect meal that is healthy and wholesome.\\n\\n#paneer #protienmeals #richinprotein #healthymeals #tastymeals #kungpaosauce #healthy2021 #tastebhihealthbhi #wearehereforyou #fooddarzee', 'Get a little creative and tell us how you say fit on a daily basis by describing your workout with the name of your favourite movie!\\n\\n#workout #nameyourworkout #dailyfitness #workoutroutine #favouritemovie #workoutmovie #healthy2021 #workoutfood #workoutfoods #wearehereforyou #fooddarzee', 'Not only our chefs, but also all our raw vegetables and fruits are washed thoroughly and sanitized to avoid any kind of dirt or contamination before it is being cooked. Such safety measures ensure that eat of our meals are made in a clean and safe environment to keep up with our quality standards.\\n\\n#qaulitymatters #qualitycontrol #freshvegetables #cleanandfresh #safteyfirst #safetymatters #safetymeasures #wearehereforyou #fooddarzee']\n",
      "\n",
      "___________________________________________________________________________________________________________\n",
      "\n",
      "['Lunch scene this afternoon - an all out Andhra vegetarian bhojanam! .\\nHot steamed rice, pappu charu (tamarind based lentil vegetable stew), cauliflower pickle, chikkudikaya tomato kura (broad beans tomato curry), kalchina vankaya pachadi (roasted brinjal chutney) and buttermilk (not in pic)\\n.\\n.\\n.\\n.\\n.\\nThe recipes for pappu charu aka pappu pulusu, chikkudikaya kura and kalchina vankaya pachadi are on the blog. Am yet to blog cauliflower pickle recipe - www.sailusfood.com\\n.\\n.\\n.\\n.\\n.\\n.\\n.\\n#sailusfood #indianfood #simplefood #thali #andhrafood #telugufood #andhracuisine #healthyfood #healthyliving #lunch #lunchideas #homecooking #southindianfood #andhra #flavorsofindia #authenticfood #ammacooking #traditional #indiankitchen #walkwithindia #ilovetoeat #eattherainbow #comfortfood #soulfood #goodfoodindia #indiafood_lovers #foodtalkindia', 'Ghee Podi Idli for breakfast. The left over idlis took a new avatar with a generous sprinkle of coarsely pound idli podi and tossed in a tempering of mustard seeds, urad dal and curry leaves. .\\n.\\n.\\n.\\n.\\n\\n#sailusfood #breakfast #idli #podiidli #veganfoodshare #idlilove #idlipodi #breakfastlover #breakfastofchamps #foodielife #foodtalkindia #ndtv_food #southindianfood #walkwithindia #southindianbreakfast #healthybreakfast #foodblogfeed #whatiate #onmytable #breakfastclub #healthyish #yummyinmytummy #indianfood', 'Relished desi ghee smeared roti with aloo tamatar sabji (no onion and no garlic) and dahi that\\'s spiked with roasted cumin powder for breakfast.\\n.\\n.\\nFor aloo tamatar sabji, peel a large potato and chop into 1/2\" thin pieces. Chop a large tomato into small pieces. Heat 1 1/2 tbsps of oil in a pressure cooker, add 1/2 tsp cumin and let it crackle. Add 2 slit green chilies and the chopped potatoes and cook on low flame for 5 mins. Add turmeric powder, grated ginger (1/2 tsp), 1/2 tsp dhania powder, 1 tsp red chili powder and salt. Mix and cook for a min. Add chopped tomatoes and cook for 4-5 mins. Add a generous amount of chopped coriander, 1 cup water and pressure cook up to 2 whistles. Once the pressure eases, open the lid and simmer it for a few minutes if required. Add 1/4 tsp garam masala and fresh coriander and mix. .\\n.\\n.\\n.\\n#sailusfood #indianfood #northindianfood #lbreakfast #comfortfood #desikhana #aloosabji #breakfastofchamps #breakfastoftheday #ilovecooking #soulfood #foodtalkindia #goodfoodindia #ndtv_food #delhifoodie #dilsefoodie #delhifoodies #simplefood #happinessishomemade #thefeedfeed #huffposttaste #yummyinmytummy #kitchenstories #vegetarianfoodshare #fbci_official\\n#delhidiaries #comfortfood #truecooks', 'A heart warming, delicious breakfast #onmyplate - hot idlis with tomato kurma. One of the best side dishes to go with idli. I make quite a few variations of this kurma. Here\\'s how I made the tomato kurma that\\'s high on flavour.\\n.\\n.\\nHeat 1/2 tbsp of oil in a pan. Add 2 sliced medium tomatoes, a green chili, 2 garlic cloves and 1/2\" ginger and sauté for 5 mins. Cool and grind with 1/2 tbsp roasted gram dal, 2 tbsps grated coconut, 1/4 tsp poppy seeds and 1/4 tsp fennel seeds. Heat a tbsp of oil in a vessel. Add 1/2 tsp mustard seeds and allow to splutter. Add a sliced onion and few curry leaves and sauté for 6-7 mins. Add 1 tsp red chili powder, 1/2 tsp coriander powder and 1/4 tsp garam masala powder. Mix. Add the ground tomato paste and 1 1/2 cups of water and salt to taste. Bring to a rolling boil, reduce flame and simmer for 10-12 mins. .\\n.\\n.\\n#sailusfood #idli #indianfood #tomatokurma #idlilove #eattherainbow #veganfoodshare #glutenfreeindia #breakfastlover #breakfastofchamps #foodtalkindia #ndtv_food #southindianfood #walkwithindia #southindianbreakfast #healthybreakfast #foodblogfeed #whatiate #onmytable #healthy #breakfastclub #healthyish #yummyinmytummy #indianfood #comfortfood #soulfood #traditionalfood #aurhenticfood #glutenfreevegan', 'Heavenly breakfast this morning - ghee roast golden dosa with hot sambar and coconut chutney. And of course, filter kaapi! .\\n.\\n.\\n.\\n.\\n.\\n#sailusfood #indianfood #dosa #dosai #tiffinsofindia #southindianbreakfast #chutney #yahoofood #tiffin #dosalove #breakfastoftheday #walkwithindia #onmyplate #soulfood #comfortfood #breakfastlover #breakfastofchamps #authenticfood #yummyinmytummy #comfortfood #soulfood #eattherainbow #veganfoodshare #glutenfreeindia #foodtalkindia #thefeedfeed #huffposttaste #homechef #foodiesofindia #bestbreakfastever', \"Made matar paneer (home made paneer) and served it with roti that I made using left over bature dough. A perfect winter breakfast! .\\nI buy a lot of fresh matar or green peas and tend to add them by the fistful to dishes that don't call for the use of them. Anyone as crazy as me for matar? 😊\\n.\\nThe link to matar paneer recipe is in my IG profile or google 'sailu matar paneer'\\n.\\n.\\n.\\n.\\n#sailusfood #indianfood #punjabifood #matarpaneer #roti #breakfast #matar #greenpeas #walkwithindia #comfortfood #foodtalkindia #goodfoodindia #ndtv_food #delhifoodie #dilsefoodie #delhifoodies #northindianfood #happinessishomemade #thefeedfeed #huffposttaste #yummyinmytummy #kitchenstories #soulfood #vegetarianfoodshare #comfortfood #truecooks #ontheplate_project #northindianfood #breakfastoftheday\", '#latergram comforting Andhra bhojanam #onmyplate yesterday\\n.\\n🔸Menthukura pappu (methi turdal)\\n🔸Tomato perugu pachadi\\n🔸Chilakadadumpa kura (sweet potato curry)\\n🔸Charu (tamarind soup)\\n🔸Annam (steamed rice) .\\n.\\n.\\nAll recipes on the blog www.sailusfood.com\\n.\\n.\\n.\\n#sailusfood #indianfood #simplefood #thali #andhrafood #telugufood #andhracuisine #healthyfood #healthyliving #lunch #lunchideas #homecooking #southindianfood #andhra #flavorsofindia #authenticfood #ammacooking #traditional #indiankitchen #walkwithindia #ilovetoeat #eattherainbow #comfortfood #soulfood #goodfoodindia #indiafood_lovers #foodtalkindia', \"Sunday breakfast scenes - my all time favourite - Chole Bhature ❤️ A match made in heaven! .\\nWhat did you eat for breakfast? 😊\\n.\\n.\\nIf you want the recipe for Punbaji chole and bhature, you will find them in my blog. OR you can google 'sailu chole recipe'. The recipe link for batura is in my Instagram profile\\n.\\n.\\n.\\n.\\n.\\n.\\n.\\n\\n#sailusfood #indianfood #batura #cholebhature #walkwithindia #northindianfood #foodtalkindia #goodfoodindia #punjabifood #ndtv_food #tasteofindia #sodelhi #happinessishomemade #thefeedfeed #huffposttaste #foodiesofindia #indianfoodbloggers #breakfastspecial #breakfastoftheday #kitchenstories #whatsforbreakfast #vegetarianfoodshare #fbci_official\\n#delhidiaries #comfortfood #truecooks #yummyinmytummy #ontheplate_project #nomnom24x7 #northindianfood @thefoodguruji\\n@mumbaifoodies @theindianroute @buzzfeedfood @dillifoodies @foodreview.in @desi.foodbie @delhisehoon @bhukkhadbybirth\", \"One of my favourite breakfast today - hot off the stove lacy, soft appams with Kerala style vegetable stew. .\\n.\\nIf you are interested in the recipes of Appam and Kerala style vegetable stew, visit my blog www.sailusfood.com or google 'sailu recipe name'\\n.\\n.\\n.\\n.\\n.\\n.\\n#sailusfood #indianfood #southindianfood #appam #vegetablestew #keralafood #veganfoodshare #glutenfreeindia #breakfastlover #breakfastofchamps #foodielife #foodtalkindia #ndtv_food #walkwithindia #southindianbreakfast #healthybreakfast #foodblogfeed #whatiate #onmytable #healthy #breakfastclub #yummyinmytummy #comfortfood #soulfood #glutenfreevegan #thefeedfeed #comfortfood #thefoodfeed #lovemyfood\", 'I have updated the blog with a new recipe, Paal Poli or milk poori, that I made for Diwali. A classic South Indian dessert where deep fried pooris (made with flour and semolina dough) are dunked in a rich cardamom flavored, reduced sweetened milk. Simply irresistible dessert! .\\n.\\nThose who want the recipe, you will find the link to the recipe in my IG profile\\n.\\n.\\n.\\n.\\n.\\n#paalpoli #milkpoli #milkpuri #dessert #recipeoftheday #sailusfood #indianfood #southindiansweet #foodblog #instafoodie #sodelicious #foodstagram #ontheblog #foodgawker #f52grams #buzzfeedfood #diwali #krishnashtami #bhogi #foodblogger #feedfeed #indiandessert #thefoodfeed #yummyinmytummy #beautifulcuisines #indiansweets #indiancooking #walkwithindia #traditionalsweets #indianfestivalrecipes']\n",
      "\n",
      "___________________________________________________________________________________________________________\n",
      "\n"
     ]
    }
   ],
   "source": [
    "for i in content_.keys():\n",
    "    print(content_[i])\n",
    "    print()\n",
    "    print('___________________________________________________________________________________________________________',end='\\n')\n",
    "    print()"
   ]
  },
  {
   "cell_type": "markdown",
   "metadata": {},
   "source": [
    "## 2.List of all words and their frequency"
   ]
  },
  {
   "cell_type": "code",
   "execution_count": 19,
   "metadata": {},
   "outputs": [],
   "source": [
    "## combining all the strings in content\n",
    "a = ''\n",
    "for i in content_.keys():\n",
    "    for j in content_[i]:\n",
    "        a = a + ''.join(content_[i])"
   ]
  },
  {
   "cell_type": "code",
   "execution_count": 20,
   "metadata": {},
   "outputs": [],
   "source": [
    "## for the purposes of this question I have considered only hashtags\n",
    "## at the end I do have cell that can calculate the same for all the words \n",
    "##Its commented out because it serves no purpose and does not provide much information.\n",
    "hash_ = {}\n",
    "for i in a.split():\n",
    "\n",
    "    if i[0] == '#': \n",
    "        for j in i.split('#'): # to check if there are multiple hastags\n",
    "            if  len(j) != 0: # to remove empty strings\n",
    "                if j in hash_.keys():\n",
    "                    hash_[j] += 1\n",
    "                else:\n",
    "                    hash_[j] = 1 "
   ]
  },
  {
   "cell_type": "code",
   "execution_count": 21,
   "metadata": {},
   "outputs": [
    {
     "name": "stdout",
     "output_type": "stream",
     "text": [
      "indianfood ------------- 120\n",
      "comfortfood ------------- 120\n",
      "sailusfood ------------- 100\n",
      "walkwithindia ------------- 90\n",
      "yummyinmytummy ------------- 80\n",
      "soulfood ------------- 80\n",
      "foodporn ------------- 80\n",
      "foodtalkindia ------------- 70\n",
      "streetfood ------------- 70\n",
      "ndtv_food ------------- 60\n",
      "recipeoftheday ------------- 50\n",
      "breakfastofchamps ------------- 50\n",
      "goodfoodindia ------------- 50\n",
      "wearehereforyou ------------- 50\n",
      "foodstagram ------------- 50\n",
      "northindianfood ------------- 50\n",
      "southindianfood ------------- 50\n",
      "thefeedfeed ------------- 50\n",
      "healthy2021 ------------- 40\n",
      "food ------------- 40\n",
      "breakfastlover ------------- 40\n",
      "veganfoodshare ------------- 40\n",
      "southindianbreakfast ------------- 40\n",
      "healthyfood ------------- 40\n",
      "huffposttaste ------------- 40\n",
      "breakfastoftheday ------------- 40\n",
      "recipe ------------- 40\n",
      "foodie ------------- 40\n",
      "eattherainbow ------------- 40\n",
      "vegetarianfoodshare ------------- 30\n",
      "whatiate ------------- 30\n",
      "onmytable ------------- 30\n",
      "breakfastclub ------------- 30\n",
      "foodblogfeed ------------- 30\n",
      "healthybreakfast ------------- 30\n",
      "happinessishomemade ------------- 30\n",
      "simplefood ------------- 30\n",
      "kitchenstories ------------- 30\n",
      "paneer ------------- 30\n",
      "healthymeals ------------- 30\n",
      "onmyplate ------------- 30\n",
      "glutenfreeindia ------------- 30\n",
      "authenticfood ------------- 30\n",
      "coacheddarzee ------------- 30\n",
      "sanjyotkeerAloo ------------- 29\n",
      "sanjyotkeer ------------- 20\n",
      "aloorecipes ------------- 20\n",
      "alootikki ------------- 20\n",
      "ontheplate_project ------------- 20\n",
      "healthyish ------------- 20\n",
      "delhifoodie ------------- 20\n",
      "punjabifood ------------- 20\n",
      "fbci_official ------------- 20\n",
      "delhidiaries ------------- 20\n",
      "foodiesofindia ------------- 20\n",
      "easyrecipe ------------- 20\n",
      "dilsefoodie ------------- 20\n",
      "healthyeating ------------- 20\n",
      "healthy ------------- 20\n",
      "truecooks ------------- 20\n",
      "vegsizzler ------------- 20\n",
      "yummy ------------- 20\n",
      "vegetarian ------------- 20\n",
      "foodiesofinstagram ------------- 20\n",
      "dosa ------------- 20\n",
      "ilovetoeat ------------- 20\n",
      "mumbaistreetfood ------------- 20\n",
      "indiankitchen ------------- 20\n",
      "traditional ------------- 20\n",
      "ammacooking ------------- 20\n",
      "flavorsofindia ------------- 20\n",
      "andhra ------------- 20\n",
      "homecooking ------------- 20\n",
      "lunchideas ------------- 20\n",
      "lunch ------------- 20\n",
      "healthyliving ------------- 20\n",
      "andhracuisine ------------- 20\n",
      "telugufood ------------- 20\n",
      "andhrafood ------------- 20\n",
      "thali ------------- 20\n",
      "vegetarianrecipes ------------- 20\n",
      "indiafood_lovers ------------- 20\n",
      "delhifoodies ------------- 20\n",
      "sizzlers ------------- 20\n",
      "frieslover ------------- 20\n",
      "cheesy ------------- 20\n",
      "thefoodfeed ------------- 20\n",
      "indiancuisine ------------- 20\n",
      "cheesyfood ------------- 20\n",
      "breakfast ------------- 20\n",
      "idli ------------- 20\n",
      "yummlicious ------------- 20\n",
      "idlilove ------------- 20\n",
      "paneerrecipes ------------- 20\n",
      "foodielife ------------- 20\n",
      "recipes ------------- 20\n",
      "hotdog ------------- 20\n",
      "hotdoglovers ------------- 20\n",
      "foodtalkindiaGhee ------------- 10\n",
      "idlipodi ------------- 10\n",
      "ilovecooking ------------- 10\n",
      "aloosabji ------------- 10\n",
      "desikhana ------------- 10\n",
      "indianfoodRelished ------------- 10\n",
      "podiidli ------------- 10\n",
      "lbreakfast ------------- 10\n",
      "Chopped ------------- 10\n",
      "tomatokurma ------------- 10\n",
      "lovemyfoodI ------------- 10\n",
      "paalpoli ------------- 10\n",
      "milkpoli ------------- 10\n",
      "milkpuri ------------- 10\n",
      "dessert ------------- 10\n",
      "southindiansweet ------------- 10\n",
      "foodblog ------------- 10\n",
      "instafoodie ------------- 10\n",
      "sodelicious ------------- 10\n",
      "ontheblog ------------- 10\n",
      "foodgawker ------------- 10\n",
      "f52grams ------------- 10\n",
      "buzzfeedfood ------------- 10\n",
      "diwali ------------- 10\n",
      "krishnashtami ------------- 10\n",
      "bhogi ------------- 10\n",
      "foodblogger ------------- 10\n",
      "feedfeed ------------- 10\n",
      "indiandessert ------------- 10\n",
      "beautifulcuisines ------------- 10\n",
      "indiansweets ------------- 10\n",
      "indiancooking ------------- 10\n",
      "traditionalsweets ------------- 10\n",
      "glutenfreevegan ------------- 10\n",
      "keralafood ------------- 10\n",
      "vegetablestew ------------- 10\n",
      "appam ------------- 10\n",
      "traditionalfood ------------- 10\n",
      "aurhenticfood ------------- 10\n",
      "glutenfreeveganHeavenly ------------- 10\n",
      "dosai ------------- 10\n",
      "tiffinsofindia ------------- 10\n",
      "chutney ------------- 10\n",
      "yahoofood ------------- 10\n",
      "tiffin ------------- 10\n",
      "homechef ------------- 10\n",
      "bestbreakfasteverMade ------------- 10\n",
      "matarpaneer ------------- 10\n",
      "truecooksA ------------- 10\n",
      "roti ------------- 10\n",
      "greenpeas ------------- 10\n",
      "latergram ------------- 10\n",
      "foodtalkindiaSunday ------------- 10\n",
      "batura ------------- 10\n",
      "cholebhature ------------- 10\n",
      "tasteofindia ------------- 10\n",
      "sodelhi ------------- 10\n",
      "indianfoodbloggers ------------- 10\n",
      "breakfastspecial ------------- 10\n",
      "whatsforbreakfast ------------- 10\n",
      "nomnom24x7 ------------- 10\n",
      "matar ------------- 10\n",
      "dosalove ------------- 10\n",
      "workout ------------- 10\n",
      "healthfacts ------------- 10\n",
      "mumbai_igMalai ------------- 10\n",
      "streetfoodlover ------------- 10\n",
      "kofta ------------- 10\n",
      "koftacurry ------------- 10\n",
      "mumbai_igMatar ------------- 10\n",
      "paneerlovers ------------- 10\n",
      "dhabastyle ------------- 10\n",
      "dhabafood ------------- 10\n",
      "SupermarketStakeout, ------------- 10\n",
      "HappyRepublicDay ------------- 10\n",
      "republicday ------------- 10\n",
      "republicday2021 ------------- 10\n",
      "fooddarzeeShaped ------------- 10\n",
      "broccoli ------------- 10\n",
      "broccolilover ------------- 10\n",
      "superveggie ------------- 10\n",
      "vitaminc ------------- 10\n",
      "antioxidants ------------- 10\n",
      "healthytummy ------------- 10\n",
      "healthyveggies ------------- 10\n",
      "healthforyou ------------- 10\n",
      "fooddarzeeWhether ------------- 10\n",
      "morningworkout ------------- 10\n",
      "eveningworkout ------------- 10\n",
      "discoveryplus⁠ ------------- 10\n",
      "sanjyotkeerCheesy ------------- 10\n",
      "hackvideoCheesy ------------- 10\n",
      "hack ------------- 10\n",
      "tortillawrap ------------- 10\n",
      "discoveryplus ------------- 10\n",
      "KidsBakingChampionship ------------- 10\n",
      "f52communityEver ------------- 10\n",
      "f52communityRaise ------------- 10\n",
      "f52community) ------------- 10\n",
      "f52gramsChoose ------------- 10\n",
      "f52communityCombine ------------- 10\n",
      "f52community ------------- 10\n",
      "f52gramsFrijoles ------------- 10\n",
      "f52communityPork ------------- 10\n",
      "f52communityWe’ve ------------- 10\n",
      "foodphotography ------------- 10\n",
      "factsdaily ------------- 10\n",
      "mumbai_igMasala ------------- 10\n",
      "streetsofindia ------------- 10\n",
      "mumbaistreets ------------- 10\n",
      "sanjyotkeerPaneer ------------- 10\n",
      "paneerlover ------------- 10\n",
      "paneerlove ------------- 10\n",
      "sanjyotkeerTrending ------------- 10\n",
      "1 ------------- 10\n",
      "reeitfeelit ------------- 10\n",
      "reelkarofeelkaro ------------- 10\n",
      "reelsinstagram ------------- 10\n",
      "tortilla ------------- 10\n",
      "wraphack ------------- 10\n",
      "uttapam ------------- 10\n",
      "factoftheday ------------- 10\n",
      "workoutmotivation ------------- 10\n",
      "workoutbenefits ------------- 10\n",
      "Protein ------------- 10\n",
      "KetoFriendlyMeals ------------- 10\n",
      "ketomeals ------------- 10\n",
      "eathealthyPaneer ------------- 10\n",
      "protienmeals ------------- 10\n",
      "richinprotein ------------- 10\n",
      "tastymeals ------------- 10\n",
      "kungpaosauce ------------- 10\n",
      "tastebhihealthbhi ------------- 10\n",
      "fooddarzeeGet ------------- 10\n",
      "GiadaEntertains ------------- 10\n",
      "nameyourworkout ------------- 10\n",
      "MalaiTikka ------------- 10\n",
      "dailyfitness ------------- 10\n",
      "favouritemovie ------------- 10\n",
      "workoutmovie ------------- 10\n",
      "workoutfood ------------- 10\n",
      "workoutfoods ------------- 10\n",
      "fooddarzeeNot ------------- 10\n",
      "qaulitymatters ------------- 10\n",
      "qualitycontrol ------------- 10\n",
      "freshvegetables ------------- 10\n",
      "cleanandfresh ------------- 10\n",
      "safteyfirst ------------- 10\n",
      "safetymatters ------------- 10\n",
      "safetymeasures ------------- 10\n",
      "workoutroutine ------------- 10\n",
      "TheKitchen: ------------- 10\n",
      "ChickenTikka ------------- 10\n",
      "foodforlife ------------- 10\n",
      "foodarzeeUsing ------------- 10\n",
      "dumbiryani ------------- 10\n",
      "healthybiryani ------------- 10\n",
      "biryanilovers ------------- 10\n",
      "biryanikhaoge ------------- 10\n",
      "desimasala ------------- 10\n",
      "indianspices ------------- 10\n",
      "tastyfood ------------- 10\n",
      "foodmadewithlove ------------- 10\n",
      "foodmadeforyou ------------- 10\n",
      "fooddarzeeWhile ------------- 10\n",
      "highprotienmeal ------------- 10\n",
      "fooddarzeeWhen ------------- 10\n",
      "richfoods ------------- 10\n",
      "protienfood ------------- 10\n",
      "weightgain ------------- 10\n",
      "musclebuilding ------------- 10\n",
      "nutrition ------------- 10\n",
      "fooddarzeeEven ------------- 10\n",
      "berniesanders ------------- 10\n",
      "berniesandersmemes ------------- 10\n",
      "kitchencooking ------------- 10\n",
      "freshdaily ------------- 10\n",
      "freshmeals ------------- 10\n",
      "healthymemes ------------- 10\n",
      "foodmemes ------------- 10\n",
      "healthylifestyle ------------- 10\n",
      "TheKitchen ------------- 10\n",
      "fooddarzeeLet’s ------------- 9\n",
      "indianfestivalrecipesLunch ------------- 9\n",
      "fooddarzeeLunch ------------- 1\n",
      "sanjyotkeerLet’s ------------- 1\n",
      "indianfestivalrecipes ------------- 1\n"
     ]
    }
   ],
   "source": [
    "x = np.argsort(np.array(hash_.values()))\n",
    "\n",
    "index = np.argsort(-np.array(list(hash_.values())))  #getting the index of the sorted frequency\n",
    "\n",
    "hashtag = []\n",
    "hashtag_val = []\n",
    "\n",
    "for i in index:\n",
    "    hashtag.append(list(hash_.keys())[i])\n",
    "    hashtag_val.append(list(hash_.values())[i])\n",
    "    print(list(hash_.keys())[i],'-------------',list(hash_.values())[i])"
   ]
  },
  {
   "cell_type": "markdown",
   "metadata": {},
   "source": [
    "## 3.Saving the words and their frequency"
   ]
  },
  {
   "cell_type": "code",
   "execution_count": 22,
   "metadata": {},
   "outputs": [],
   "source": [
    "df = pd.DataFrame()\n",
    "df['Hashtag Word'] = list(hash_.keys())\n",
    "df['Frequency'] = list(hash_.values())\n",
    "df = df.set_index('Hashtag Word',drop=True)\n",
    "df.to_csv('Words.csv')"
   ]
  },
  {
   "cell_type": "markdown",
   "metadata": {},
   "source": [
    "## 4.Top 5 hashtags"
   ]
  },
  {
   "cell_type": "code",
   "execution_count": 23,
   "metadata": {},
   "outputs": [
    {
     "name": "stdout",
     "output_type": "stream",
     "text": [
      "indianfood:120\n",
      "comfortfood:120\n",
      "sailusfood:100\n",
      "walkwithindia:90\n",
      "yummyinmytummy:80\n"
     ]
    }
   ],
   "source": [
    "top5_hashtags = hashtag[:5]\n",
    "top5_hashtags_values = hashtag_val[:5]\n",
    "for i in range(5):\n",
    "    print('{}:{}'.format(top5_hashtags[i],top5_hashtags_values[i]))"
   ]
  },
  {
   "cell_type": "markdown",
   "metadata": {},
   "source": [
    "## 5. Pie Chart for the top 5 hashtags"
   ]
  },
  {
   "cell_type": "code",
   "execution_count": 24,
   "metadata": {},
   "outputs": [
    {
     "data": {
      "image/png": "[encoded data removed]",
      "text/plain": [
       "<Figure size 576x576 with 1 Axes>"
      ]
     },
     "metadata": {},
     "output_type": "display_data"
    }
   ],
   "source": [
    "plt.figure(figsize=(8, 8))\n",
    "plt.pie(top5_hashtags_values,labels=top5_hashtags,autopct='%.2f')\n",
    "plt.title('The top 5 hashtags')\n",
    "plt.show()"
   ]
  },
  {
   "cell_type": "markdown",
   "metadata": {},
   "source": [
    "# Question 3\n",
    "## 1. The number of likes on the last 10 posts"
   ]
  },
  {
   "cell_type": "code",
   "execution_count": 25,
   "metadata": {},
   "outputs": [
    {
     "name": "stdout",
     "output_type": "stream",
     "text": [
      "foodnetwork handle has the following number of likes on the last 10 posts:35 3313 20793 3018 10039 3375 2774 38780 12412 8469\n",
      "\n",
      "food52 handle has the following number of likes on the last 10 posts:13110 3093 22346 2244 11110 2796 15407 12618 4104 2669\n",
      "\n",
      "yourfoodlab handle has the following number of likes on the last 10 posts:34514 23456 42824 54682 25344 33293 26152 39387 25984 30207\n",
      "\n",
      "food.darzee handle has the following number of likes on the last 10 posts:88 211 133 164 105 146 1445 293 64 175\n",
      "\n",
      "sailusfood handle has the following number of likes on the last 10 posts:3286 2592 2506 4383 3258 2272 1903 2364 1669 1719\n",
      "\n"
     ]
    }
   ],
   "source": [
    "for i in numberoflikes.keys():\n",
    "    print('{} handle has the following number of likes on the last 10 posts:'.format(i), end = '')\n",
    "    print(*numberoflikes[i])\n",
    "    print()"
   ]
  },
  {
   "cell_type": "markdown",
   "metadata": {},
   "source": [
    "## 2.Average Number of likes of the handles"
   ]
  },
  {
   "cell_type": "code",
   "execution_count": 26,
   "metadata": {},
   "outputs": [
    {
     "name": "stdout",
     "output_type": "stream",
     "text": [
      "foodnetwork handle has an average of 10300.8 likes on a post\n",
      "food52 handle has an average of 8949.7 likes on a post\n",
      "yourfoodlab handle has an average of 33584.3 likes on a post\n",
      "food.darzee handle has an average of 282.4 likes on a post\n",
      "sailusfood handle has an average of 2595.2 likes on a post\n"
     ]
    }
   ],
   "source": [
    "for i in avg_likes.keys():\n",
    "    print('{} handle has an average of {} likes on a post'.format(i,avg_likes[i]))"
   ]
  },
  {
   "cell_type": "markdown",
   "metadata": {},
   "source": [
    "## 3.Average followers to average likes for each handle"
   ]
  },
  {
   "cell_type": "code",
   "execution_count": 27,
   "metadata": {},
   "outputs": [
    {
     "name": "stdout",
     "output_type": "stream",
     "text": [
      "foodnetwork handle has a like ratio of 10300.8\n",
      "food52 handle has a like ratio of 8949.7\n",
      "yourfoodlab handle has a like ratio of 33584.3\n",
      "food.darzee handle has a like ratio of 282.4\n",
      "sailusfood handle has a like ratio of 2595.2\n"
     ]
    }
   ],
   "source": [
    "avg_likes_ = np.array(list(avg_likes.values()))\n",
    "followers = np.array(followers)\n",
    "like_ratio = np.round(followers/avg_likes_,2)\n",
    "for i in range(5):\n",
    "    print('{} handle has a like ratio of {}'.format(list(avg_likes.keys())[i],avg_likes_[i]))"
   ]
  },
  {
   "cell_type": "markdown",
   "metadata": {},
   "source": [
    "## 4.Bar graph showing the like ratio for each handle"
   ]
  },
  {
   "cell_type": "code",
   "execution_count": 28,
   "metadata": {},
   "outputs": [
    {
     "data": {
      "image/png": "[encoded data removed]",
      "text/plain": [
       "<Figure size 576x360 with 1 Axes>"
      ]
     },
     "metadata": {
      "needs_background": "light"
     },
     "output_type": "display_data"
    }
   ],
   "source": [
    "x = [1,2,3,4,5]\n",
    "y = like_ratio\n",
    "plt.figure(figsize=(8,5))\n",
    "plt.bar(x,y,color = 'rbgyc')\n",
    "plt.grid()\n",
    "for i in range(len(x)):\n",
    "    plt.text(x[i],y[i]+0.1,y[i])\n",
    "plt.xticks(x,avg_likes.keys())\n",
    "plt.xlabel('Top 5 food Instagram handle')\n",
    "plt.ylabel('Like Ratio')\n",
    "plt.title('Like Ratios of the different Instagram handle')\n",
    "plt.show()"
   ]
  },
  {
   "cell_type": "markdown",
   "metadata": {},
   "source": [
    "## Earlier Codes.\n",
    "## Separate functions for different parts of the question"
   ]
  },
  {
   "cell_type": "code",
   "execution_count": 30,
   "metadata": {},
   "outputs": [],
   "source": [
    "# code to find the list of words\n",
    "\n",
    "#from nltk.corpus import stopwords\n",
    "#import string\n",
    "#stop = stopwords.words('english')\n",
    "#puncutations = string.punctuation\n",
    "#stop = stop + list(puncutations)\n",
    "\n",
    "#dict_ = {}\n",
    "#list_ = []\n",
    "#\n",
    "#for i in a.split():\n",
    "#    if i.lower() not in stop:\n",
    "#        if i in dict_.keys():\n",
    "#            dict_[i] += 1\n",
    "#        else:\n",
    "#            dict_[i] = 1\n",
    "#            list_.append(i)\n",
    "#\n",
    "#x = np.argsort(np.array(dict_.values()))\n",
    "#\n",
    "#index = np.argsort(-np.array(list(dict_.values())))\n",
    "#\n",
    "#word = []\n",
    "#word_val = []\n",
    "#\n",
    "#for i in index:\n",
    "#    word.append(list(dict_.keys())[i])\n",
    "#    word_val.append(list(dict_.values())[i])\n",
    "#    print(list(dict_.keys())[i],'-------------',list(dict_.values())[i])\n",
    "\n",
    "#top5_words = hashtag[:5]\n",
    "#top5_words_values = hashtag_val[:5]\n",
    "\n",
    "#plt.figure(figsize=(8, 8))\n",
    "#plt.pie(top5_words_values,labels=top5_words,autopct='%.2f')\n",
    "#plt.show()"
   ]
  },
  {
   "cell_type": "code",
   "execution_count": 31,
   "metadata": {},
   "outputs": [],
   "source": [
    "#def numberofposts(list_):\n",
    "#    \n",
    "#    ans = {}\n",
    "#    \n",
    "#    months = ['January','February','March','April','May','June', 'July', 'August','September','October','November','December']\n",
    "#    for i in list_:\n",
    "#        time.sleep(2)\n",
    "#        searchandopen(i)\n",
    "#        path = '//div[contains(@class, \"Nnq7C\")]//div/a'\n",
    "#        WebDriverWait(driver, 30).until(EC.presence_of_element_located((By.XPATH,path)))\n",
    "#\n",
    "#        x = driver.find_elements_by_xpath(path)\n",
    "#        n = 0\n",
    "#        for j in x:\n",
    "#            time.sleep(2)\n",
    "#            j.click()\n",
    "#           \n",
    "#            path = '/html/body/div[5]/div[2]/div/article/div[3]/div[2]/a/time'\n",
    "#            WebDriverWait(driver, 30).until(EC.presence_of_element_located((By.XPATH,path)))\n",
    "#            time_ =  driver.find_element_by_xpath(path).get_attribute('innerHTML').split()\n",
    "#\n",
    "#            if (time_[0] >= '3' and time_[1] in ['days','day']) or (time_[0] in months):\n",
    "#                driver.find_element_by_xpath(\"//*[name()='svg'][@aria-label='Close']\").click()\n",
    "#                break\n",
    "#            else:\n",
    "#                n += 1\n",
    "#                driver.find_element_by_xpath(\"//*[name()='svg'][@aria-label='Close']\").click()\n",
    "#        ans[i] = n   \n",
    "#    \n",
    "#    return ans"
   ]
  },
  {
   "cell_type": "code",
   "execution_count": 32,
   "metadata": {},
   "outputs": [],
   "source": [
    "#def content(list_):\n",
    "#    \n",
    "#    ans = {}\n",
    "#    \n",
    "#    for i in list_:\n",
    "#        ans[i] = []\n",
    "#        searchandopen(i)\n",
    "#        path = '//div[contains(@class, \"Nnq7C\")]//div/a'\n",
    "#        WebDriverWait(driver, 30).until(EC.presence_of_element_located((By.XPATH,path)))\n",
    "#        x = driver.find_elements_by_xpath(path)[:10]\n",
    "#        n = 0\n",
    "#        for j in x:\n",
    "#            j.click()\n",
    "#            path = '/html/body/div[5]/div[2]/div/article/div[3]/div[1]/ul/div/li/div/div/div[2]/span'\n",
    "#            WebDriverWait(driver, 30).until(EC.presence_of_element_located((By.XPATH,path)))\n",
    "#            ans[i].append(driver.find_element_by_xpath(path).text)\n",
    "#            WebDriverWait(driver, 30).until(EC.presence_of_element_located((By.XPATH,\"//*[name()='svg'][@aria-label='Close']\")))\n",
    "#            driver.find_element_by_xpath(\"//*[name()='svg'][@aria-label='Close']\").click()\n",
    "#   \n",
    "#    return ans"
   ]
  },
  {
   "cell_type": "code",
   "execution_count": 33,
   "metadata": {},
   "outputs": [],
   "source": [
    "#def number_likes(list_):\n",
    "#    \n",
    "#    ans = {}\n",
    "#    avg = {}\n",
    "#    for i in list_:\n",
    "#        ans[i] = []\n",
    "#        searchandopen(i)\n",
    "#        time.sleep(2)\n",
    "#        path = '//div[contains(@class, \"Nnq7C\")]//div/a'\n",
    "#        WebDriverWait(driver, 30).until(EC.presence_of_element_located((By.XPATH,path)))\n",
    "#        x = driver.find_elements_by_xpath(path)[:10]\n",
    "#        n = 0\n",
    "#        for j in x:\n",
    "#            time.sleep(2)\n",
    "#            j.click()\n",
    "#            path = '/html/body/div[5]/div[2]/div/article/div[3]/section[2]/div'\n",
    "#            WebDriverWait(driver, 30).until(EC.presence_of_element_located((By.XPATH,path)))\n",
    "#            num_str, text = driver.find_element_by_xpath(path).text.split()\n",
    "#            if text == 'views':\n",
    "#                driver.find_element_by_xpath('/html/body/div[5]/div[2]/div/article/div[3]/section[2]/div/span').click()\n",
    "#                num_str = driver.find_element_by_xpath('/html/body/div[5]/div[2]/div/article/div[3]/section[2]/div/div/div[4]').text.split()[0]\n",
    "#                driver.find_element_by_xpath(\"/html/body/div[5]/div[2]/div/article/div[3]/section[2]/div/div/div[1]\").click()\n",
    "#            driver.find_element_by_xpath(\"/html/body/div[5]/div[3]/button\").click()\n",
    "#            ans[i].append(int(float(''.join((num_str.split(','))))))\n",
    "#        avg[i] = sum(ans[i])/10\n",
    "#    return ans,avg"
   ]
  },
  {
   "cell_type": "code",
   "execution_count": null,
   "metadata": {},
   "outputs": [],
   "source": []
  }
 ],
 "metadata": {
  "kernelspec": {
   "display_name": "Python 3",
   "language": "python",
   "name": "python3"
  },
  "language_info": {
   "codemirror_mode": {
    "name": "ipython",
    "version": 3
   },
   "file_extension": ".py",
   "mimetype": "text/x-python",
   "name": "python",
   "nbconvert_exporter": "python",
   "pygments_lexer": "ipython3",
   "version": "3.7.6"
  }
 },
 "nbformat": 4,
 "nbformat_minor": 4
}
