{
 "cells": [
  {
   "cell_type": "code",
   "execution_count": 1,
   "metadata": {},
   "outputs": [],
   "source": [
    "import pandas as pd\n",
    "import numpy as np\n",
    "import seaborn as sns\n",
    "import matplotlib.pyplot as plt\n",
    "from sklearn import metrics\n",
    "from sklearn.model_selection import train_test_split\n",
    "from sklearn.linear_model import LogisticRegression\n",
    "from sklearn.naive_bayes import GaussianNB\n",
    "from sklearn.tree import DecisionTreeClassifier\n",
    "from sklearn.ensemble import RandomForestClassifier\n",
    "from sklearn.neighbors import KNeighborsClassifier\n",
    "from sklearn.svm import SVC\n",
    "from sklearn.metrics import accuracy_score, confusion_matrix"
   ]
  },
  {
   "cell_type": "code",
   "execution_count": 2,
   "metadata": {},
   "outputs": [
    {
     "data": {
      "text/html": [
       "<div>\n",
       "<style scoped>\n",
       "    .dataframe tbody tr th:only-of-type {\n",
       "        vertical-align: middle;\n",
       "    }\n",
       "\n",
       "    .dataframe tbody tr th {\n",
       "        vertical-align: top;\n",
       "    }\n",
       "\n",
       "    .dataframe thead th {\n",
       "        text-align: right;\n",
       "    }\n",
       "</style>\n",
       "<table border=\"1\" class=\"dataframe\">\n",
       "  <thead>\n",
       "    <tr style=\"text-align: right;\">\n",
       "      <th></th>\n",
       "      <th>name</th>\n",
       "      <th>MDVP:Fo(Hz)</th>\n",
       "      <th>MDVP:Fhi(Hz)</th>\n",
       "      <th>MDVP:Flo(Hz)</th>\n",
       "      <th>MDVP:Jitter(%)</th>\n",
       "      <th>MDVP:Jitter(Abs)</th>\n",
       "      <th>MDVP:RAP</th>\n",
       "      <th>MDVP:PPQ</th>\n",
       "      <th>Jitter:DDP</th>\n",
       "      <th>MDVP:Shimmer</th>\n",
       "      <th>...</th>\n",
       "      <th>Shimmer:DDA</th>\n",
       "      <th>NHR</th>\n",
       "      <th>HNR</th>\n",
       "      <th>status</th>\n",
       "      <th>RPDE</th>\n",
       "      <th>DFA</th>\n",
       "      <th>spread1</th>\n",
       "      <th>spread2</th>\n",
       "      <th>D2</th>\n",
       "      <th>PPE</th>\n",
       "    </tr>\n",
       "  </thead>\n",
       "  <tbody>\n",
       "    <tr>\n",
       "      <th>0</th>\n",
       "      <td>phon_R01_S01_1</td>\n",
       "      <td>119.992</td>\n",
       "      <td>157.302</td>\n",
       "      <td>74.997</td>\n",
       "      <td>0.00784</td>\n",
       "      <td>0.00007</td>\n",
       "      <td>0.00370</td>\n",
       "      <td>0.00554</td>\n",
       "      <td>0.01109</td>\n",
       "      <td>0.04374</td>\n",
       "      <td>...</td>\n",
       "      <td>0.06545</td>\n",
       "      <td>0.02211</td>\n",
       "      <td>21.033</td>\n",
       "      <td>1</td>\n",
       "      <td>0.414783</td>\n",
       "      <td>0.815285</td>\n",
       "      <td>-4.813031</td>\n",
       "      <td>0.266482</td>\n",
       "      <td>2.301442</td>\n",
       "      <td>0.284654</td>\n",
       "    </tr>\n",
       "    <tr>\n",
       "      <th>1</th>\n",
       "      <td>phon_R01_S01_2</td>\n",
       "      <td>122.400</td>\n",
       "      <td>148.650</td>\n",
       "      <td>113.819</td>\n",
       "      <td>0.00968</td>\n",
       "      <td>0.00008</td>\n",
       "      <td>0.00465</td>\n",
       "      <td>0.00696</td>\n",
       "      <td>0.01394</td>\n",
       "      <td>0.06134</td>\n",
       "      <td>...</td>\n",
       "      <td>0.09403</td>\n",
       "      <td>0.01929</td>\n",
       "      <td>19.085</td>\n",
       "      <td>1</td>\n",
       "      <td>0.458359</td>\n",
       "      <td>0.819521</td>\n",
       "      <td>-4.075192</td>\n",
       "      <td>0.335590</td>\n",
       "      <td>2.486855</td>\n",
       "      <td>0.368674</td>\n",
       "    </tr>\n",
       "    <tr>\n",
       "      <th>2</th>\n",
       "      <td>phon_R01_S01_3</td>\n",
       "      <td>116.682</td>\n",
       "      <td>131.111</td>\n",
       "      <td>111.555</td>\n",
       "      <td>0.01050</td>\n",
       "      <td>0.00009</td>\n",
       "      <td>0.00544</td>\n",
       "      <td>0.00781</td>\n",
       "      <td>0.01633</td>\n",
       "      <td>0.05233</td>\n",
       "      <td>...</td>\n",
       "      <td>0.08270</td>\n",
       "      <td>0.01309</td>\n",
       "      <td>20.651</td>\n",
       "      <td>1</td>\n",
       "      <td>0.429895</td>\n",
       "      <td>0.825288</td>\n",
       "      <td>-4.443179</td>\n",
       "      <td>0.311173</td>\n",
       "      <td>2.342259</td>\n",
       "      <td>0.332634</td>\n",
       "    </tr>\n",
       "    <tr>\n",
       "      <th>3</th>\n",
       "      <td>phon_R01_S01_4</td>\n",
       "      <td>116.676</td>\n",
       "      <td>137.871</td>\n",
       "      <td>111.366</td>\n",
       "      <td>0.00997</td>\n",
       "      <td>0.00009</td>\n",
       "      <td>0.00502</td>\n",
       "      <td>0.00698</td>\n",
       "      <td>0.01505</td>\n",
       "      <td>0.05492</td>\n",
       "      <td>...</td>\n",
       "      <td>0.08771</td>\n",
       "      <td>0.01353</td>\n",
       "      <td>20.644</td>\n",
       "      <td>1</td>\n",
       "      <td>0.434969</td>\n",
       "      <td>0.819235</td>\n",
       "      <td>-4.117501</td>\n",
       "      <td>0.334147</td>\n",
       "      <td>2.405554</td>\n",
       "      <td>0.368975</td>\n",
       "    </tr>\n",
       "    <tr>\n",
       "      <th>4</th>\n",
       "      <td>phon_R01_S01_5</td>\n",
       "      <td>116.014</td>\n",
       "      <td>141.781</td>\n",
       "      <td>110.655</td>\n",
       "      <td>0.01284</td>\n",
       "      <td>0.00011</td>\n",
       "      <td>0.00655</td>\n",
       "      <td>0.00908</td>\n",
       "      <td>0.01966</td>\n",
       "      <td>0.06425</td>\n",
       "      <td>...</td>\n",
       "      <td>0.10470</td>\n",
       "      <td>0.01767</td>\n",
       "      <td>19.649</td>\n",
       "      <td>1</td>\n",
       "      <td>0.417356</td>\n",
       "      <td>0.823484</td>\n",
       "      <td>-3.747787</td>\n",
       "      <td>0.234513</td>\n",
       "      <td>2.332180</td>\n",
       "      <td>0.410335</td>\n",
       "    </tr>\n",
       "  </tbody>\n",
       "</table>\n",
       "<p>5 rows × 24 columns</p>\n",
       "</div>"
      ],
      "text/plain": [
       "             name  MDVP:Fo(Hz)  MDVP:Fhi(Hz)  MDVP:Flo(Hz)  MDVP:Jitter(%)  \\\n",
       "0  phon_R01_S01_1      119.992       157.302        74.997         0.00784   \n",
       "1  phon_R01_S01_2      122.400       148.650       113.819         0.00968   \n",
       "2  phon_R01_S01_3      116.682       131.111       111.555         0.01050   \n",
       "3  phon_R01_S01_4      116.676       137.871       111.366         0.00997   \n",
       "4  phon_R01_S01_5      116.014       141.781       110.655         0.01284   \n",
       "\n",
       "   MDVP:Jitter(Abs)  MDVP:RAP  MDVP:PPQ  Jitter:DDP  MDVP:Shimmer  ...  \\\n",
       "0           0.00007   0.00370   0.00554     0.01109       0.04374  ...   \n",
       "1           0.00008   0.00465   0.00696     0.01394       0.06134  ...   \n",
       "2           0.00009   0.00544   0.00781     0.01633       0.05233  ...   \n",
       "3           0.00009   0.00502   0.00698     0.01505       0.05492  ...   \n",
       "4           0.00011   0.00655   0.00908     0.01966       0.06425  ...   \n",
       "\n",
       "   Shimmer:DDA      NHR     HNR  status      RPDE       DFA   spread1  \\\n",
       "0      0.06545  0.02211  21.033       1  0.414783  0.815285 -4.813031   \n",
       "1      0.09403  0.01929  19.085       1  0.458359  0.819521 -4.075192   \n",
       "2      0.08270  0.01309  20.651       1  0.429895  0.825288 -4.443179   \n",
       "3      0.08771  0.01353  20.644       1  0.434969  0.819235 -4.117501   \n",
       "4      0.10470  0.01767  19.649       1  0.417356  0.823484 -3.747787   \n",
       "\n",
       "    spread2        D2       PPE  \n",
       "0  0.266482  2.301442  0.284654  \n",
       "1  0.335590  2.486855  0.368674  \n",
       "2  0.311173  2.342259  0.332634  \n",
       "3  0.334147  2.405554  0.368975  \n",
       "4  0.234513  2.332180  0.410335  \n",
       "\n",
       "[5 rows x 24 columns]"
      ]
     },
     "execution_count": 2,
     "metadata": {},
     "output_type": "execute_result"
    }
   ],
   "source": [
    "data = pd.read_csv('Data/Parkinson Disease/parkinsons.data')\n",
    "data.head()"
   ]
  },
  {
   "cell_type": "code",
   "execution_count": 3,
   "metadata": {},
   "outputs": [
    {
     "data": {
      "text/plain": [
       "(195, 24)"
      ]
     },
     "execution_count": 3,
     "metadata": {},
     "output_type": "execute_result"
    }
   ],
   "source": [
    "data.shape"
   ]
  },
  {
   "cell_type": "code",
   "execution_count": 4,
   "metadata": {},
   "outputs": [
    {
     "data": {
      "text/plain": [
       "name                0\n",
       "MDVP:Fo(Hz)         0\n",
       "MDVP:Fhi(Hz)        0\n",
       "MDVP:Flo(Hz)        0\n",
       "MDVP:Jitter(%)      0\n",
       "MDVP:Jitter(Abs)    0\n",
       "MDVP:RAP            0\n",
       "MDVP:PPQ            0\n",
       "Jitter:DDP          0\n",
       "MDVP:Shimmer        0\n",
       "MDVP:Shimmer(dB)    0\n",
       "Shimmer:APQ3        0\n",
       "Shimmer:APQ5        0\n",
       "MDVP:APQ            0\n",
       "Shimmer:DDA         0\n",
       "NHR                 0\n",
       "HNR                 0\n",
       "status              0\n",
       "RPDE                0\n",
       "DFA                 0\n",
       "spread1             0\n",
       "spread2             0\n",
       "D2                  0\n",
       "PPE                 0\n",
       "dtype: int64"
      ]
     },
     "execution_count": 4,
     "metadata": {},
     "output_type": "execute_result"
    }
   ],
   "source": [
    "data.isnull().sum()"
   ]
  },
  {
   "cell_type": "code",
   "execution_count": 5,
   "metadata": {},
   "outputs": [
    {
     "name": "stdout",
     "output_type": "stream",
     "text": [
      "<class 'pandas.core.frame.DataFrame'>\n",
      "RangeIndex: 195 entries, 0 to 194\n",
      "Data columns (total 24 columns):\n",
      " #   Column            Non-Null Count  Dtype  \n",
      "---  ------            --------------  -----  \n",
      " 0   name              195 non-null    object \n",
      " 1   MDVP:Fo(Hz)       195 non-null    float64\n",
      " 2   MDVP:Fhi(Hz)      195 non-null    float64\n",
      " 3   MDVP:Flo(Hz)      195 non-null    float64\n",
      " 4   MDVP:Jitter(%)    195 non-null    float64\n",
      " 5   MDVP:Jitter(Abs)  195 non-null    float64\n",
      " 6   MDVP:RAP          195 non-null    float64\n",
      " 7   MDVP:PPQ          195 non-null    float64\n",
      " 8   Jitter:DDP        195 non-null    float64\n",
      " 9   MDVP:Shimmer      195 non-null    float64\n",
      " 10  MDVP:Shimmer(dB)  195 non-null    float64\n",
      " 11  Shimmer:APQ3      195 non-null    float64\n",
      " 12  Shimmer:APQ5      195 non-null    float64\n",
      " 13  MDVP:APQ          195 non-null    float64\n",
      " 14  Shimmer:DDA       195 non-null    float64\n",
      " 15  NHR               195 non-null    float64\n",
      " 16  HNR               195 non-null    float64\n",
      " 17  status            195 non-null    int64  \n",
      " 18  RPDE              195 non-null    float64\n",
      " 19  DFA               195 non-null    float64\n",
      " 20  spread1           195 non-null    float64\n",
      " 21  spread2           195 non-null    float64\n",
      " 22  D2                195 non-null    float64\n",
      " 23  PPE               195 non-null    float64\n",
      "dtypes: float64(22), int64(1), object(1)\n",
      "memory usage: 36.7+ KB\n"
     ]
    }
   ],
   "source": [
    "data.info()"
   ]
  },
  {
   "cell_type": "code",
   "execution_count": 6,
   "metadata": {},
   "outputs": [
    {
     "data": {
      "text/html": [
       "<div>\n",
       "<style scoped>\n",
       "    .dataframe tbody tr th:only-of-type {\n",
       "        vertical-align: middle;\n",
       "    }\n",
       "\n",
       "    .dataframe tbody tr th {\n",
       "        vertical-align: top;\n",
       "    }\n",
       "\n",
       "    .dataframe thead th {\n",
       "        text-align: right;\n",
       "    }\n",
       "</style>\n",
       "<table border=\"1\" class=\"dataframe\">\n",
       "  <thead>\n",
       "    <tr style=\"text-align: right;\">\n",
       "      <th></th>\n",
       "      <th>count</th>\n",
       "      <th>mean</th>\n",
       "      <th>std</th>\n",
       "      <th>min</th>\n",
       "      <th>25%</th>\n",
       "      <th>50%</th>\n",
       "      <th>75%</th>\n",
       "      <th>max</th>\n",
       "    </tr>\n",
       "  </thead>\n",
       "  <tbody>\n",
       "    <tr>\n",
       "      <th>MDVP:Fo(Hz)</th>\n",
       "      <td>195.0</td>\n",
       "      <td>154.228641</td>\n",
       "      <td>41.390065</td>\n",
       "      <td>88.333000</td>\n",
       "      <td>117.572000</td>\n",
       "      <td>148.790000</td>\n",
       "      <td>182.769000</td>\n",
       "      <td>260.105000</td>\n",
       "    </tr>\n",
       "    <tr>\n",
       "      <th>MDVP:Fhi(Hz)</th>\n",
       "      <td>195.0</td>\n",
       "      <td>197.104918</td>\n",
       "      <td>91.491548</td>\n",
       "      <td>102.145000</td>\n",
       "      <td>134.862500</td>\n",
       "      <td>175.829000</td>\n",
       "      <td>224.205500</td>\n",
       "      <td>592.030000</td>\n",
       "    </tr>\n",
       "    <tr>\n",
       "      <th>MDVP:Flo(Hz)</th>\n",
       "      <td>195.0</td>\n",
       "      <td>116.324631</td>\n",
       "      <td>43.521413</td>\n",
       "      <td>65.476000</td>\n",
       "      <td>84.291000</td>\n",
       "      <td>104.315000</td>\n",
       "      <td>140.018500</td>\n",
       "      <td>239.170000</td>\n",
       "    </tr>\n",
       "    <tr>\n",
       "      <th>MDVP:Jitter(%)</th>\n",
       "      <td>195.0</td>\n",
       "      <td>0.006220</td>\n",
       "      <td>0.004848</td>\n",
       "      <td>0.001680</td>\n",
       "      <td>0.003460</td>\n",
       "      <td>0.004940</td>\n",
       "      <td>0.007365</td>\n",
       "      <td>0.033160</td>\n",
       "    </tr>\n",
       "    <tr>\n",
       "      <th>MDVP:Jitter(Abs)</th>\n",
       "      <td>195.0</td>\n",
       "      <td>0.000044</td>\n",
       "      <td>0.000035</td>\n",
       "      <td>0.000007</td>\n",
       "      <td>0.000020</td>\n",
       "      <td>0.000030</td>\n",
       "      <td>0.000060</td>\n",
       "      <td>0.000260</td>\n",
       "    </tr>\n",
       "    <tr>\n",
       "      <th>MDVP:RAP</th>\n",
       "      <td>195.0</td>\n",
       "      <td>0.003306</td>\n",
       "      <td>0.002968</td>\n",
       "      <td>0.000680</td>\n",
       "      <td>0.001660</td>\n",
       "      <td>0.002500</td>\n",
       "      <td>0.003835</td>\n",
       "      <td>0.021440</td>\n",
       "    </tr>\n",
       "    <tr>\n",
       "      <th>MDVP:PPQ</th>\n",
       "      <td>195.0</td>\n",
       "      <td>0.003446</td>\n",
       "      <td>0.002759</td>\n",
       "      <td>0.000920</td>\n",
       "      <td>0.001860</td>\n",
       "      <td>0.002690</td>\n",
       "      <td>0.003955</td>\n",
       "      <td>0.019580</td>\n",
       "    </tr>\n",
       "    <tr>\n",
       "      <th>Jitter:DDP</th>\n",
       "      <td>195.0</td>\n",
       "      <td>0.009920</td>\n",
       "      <td>0.008903</td>\n",
       "      <td>0.002040</td>\n",
       "      <td>0.004985</td>\n",
       "      <td>0.007490</td>\n",
       "      <td>0.011505</td>\n",
       "      <td>0.064330</td>\n",
       "    </tr>\n",
       "    <tr>\n",
       "      <th>MDVP:Shimmer</th>\n",
       "      <td>195.0</td>\n",
       "      <td>0.029709</td>\n",
       "      <td>0.018857</td>\n",
       "      <td>0.009540</td>\n",
       "      <td>0.016505</td>\n",
       "      <td>0.022970</td>\n",
       "      <td>0.037885</td>\n",
       "      <td>0.119080</td>\n",
       "    </tr>\n",
       "    <tr>\n",
       "      <th>MDVP:Shimmer(dB)</th>\n",
       "      <td>195.0</td>\n",
       "      <td>0.282251</td>\n",
       "      <td>0.194877</td>\n",
       "      <td>0.085000</td>\n",
       "      <td>0.148500</td>\n",
       "      <td>0.221000</td>\n",
       "      <td>0.350000</td>\n",
       "      <td>1.302000</td>\n",
       "    </tr>\n",
       "    <tr>\n",
       "      <th>Shimmer:APQ3</th>\n",
       "      <td>195.0</td>\n",
       "      <td>0.015664</td>\n",
       "      <td>0.010153</td>\n",
       "      <td>0.004550</td>\n",
       "      <td>0.008245</td>\n",
       "      <td>0.012790</td>\n",
       "      <td>0.020265</td>\n",
       "      <td>0.056470</td>\n",
       "    </tr>\n",
       "    <tr>\n",
       "      <th>Shimmer:APQ5</th>\n",
       "      <td>195.0</td>\n",
       "      <td>0.017878</td>\n",
       "      <td>0.012024</td>\n",
       "      <td>0.005700</td>\n",
       "      <td>0.009580</td>\n",
       "      <td>0.013470</td>\n",
       "      <td>0.022380</td>\n",
       "      <td>0.079400</td>\n",
       "    </tr>\n",
       "    <tr>\n",
       "      <th>MDVP:APQ</th>\n",
       "      <td>195.0</td>\n",
       "      <td>0.024081</td>\n",
       "      <td>0.016947</td>\n",
       "      <td>0.007190</td>\n",
       "      <td>0.013080</td>\n",
       "      <td>0.018260</td>\n",
       "      <td>0.029400</td>\n",
       "      <td>0.137780</td>\n",
       "    </tr>\n",
       "    <tr>\n",
       "      <th>Shimmer:DDA</th>\n",
       "      <td>195.0</td>\n",
       "      <td>0.046993</td>\n",
       "      <td>0.030459</td>\n",
       "      <td>0.013640</td>\n",
       "      <td>0.024735</td>\n",
       "      <td>0.038360</td>\n",
       "      <td>0.060795</td>\n",
       "      <td>0.169420</td>\n",
       "    </tr>\n",
       "    <tr>\n",
       "      <th>NHR</th>\n",
       "      <td>195.0</td>\n",
       "      <td>0.024847</td>\n",
       "      <td>0.040418</td>\n",
       "      <td>0.000650</td>\n",
       "      <td>0.005925</td>\n",
       "      <td>0.011660</td>\n",
       "      <td>0.025640</td>\n",
       "      <td>0.314820</td>\n",
       "    </tr>\n",
       "    <tr>\n",
       "      <th>HNR</th>\n",
       "      <td>195.0</td>\n",
       "      <td>21.885974</td>\n",
       "      <td>4.425764</td>\n",
       "      <td>8.441000</td>\n",
       "      <td>19.198000</td>\n",
       "      <td>22.085000</td>\n",
       "      <td>25.075500</td>\n",
       "      <td>33.047000</td>\n",
       "    </tr>\n",
       "    <tr>\n",
       "      <th>status</th>\n",
       "      <td>195.0</td>\n",
       "      <td>0.753846</td>\n",
       "      <td>0.431878</td>\n",
       "      <td>0.000000</td>\n",
       "      <td>1.000000</td>\n",
       "      <td>1.000000</td>\n",
       "      <td>1.000000</td>\n",
       "      <td>1.000000</td>\n",
       "    </tr>\n",
       "    <tr>\n",
       "      <th>RPDE</th>\n",
       "      <td>195.0</td>\n",
       "      <td>0.498536</td>\n",
       "      <td>0.103942</td>\n",
       "      <td>0.256570</td>\n",
       "      <td>0.421306</td>\n",
       "      <td>0.495954</td>\n",
       "      <td>0.587562</td>\n",
       "      <td>0.685151</td>\n",
       "    </tr>\n",
       "    <tr>\n",
       "      <th>DFA</th>\n",
       "      <td>195.0</td>\n",
       "      <td>0.718099</td>\n",
       "      <td>0.055336</td>\n",
       "      <td>0.574282</td>\n",
       "      <td>0.674758</td>\n",
       "      <td>0.722254</td>\n",
       "      <td>0.761881</td>\n",
       "      <td>0.825288</td>\n",
       "    </tr>\n",
       "    <tr>\n",
       "      <th>spread1</th>\n",
       "      <td>195.0</td>\n",
       "      <td>-5.684397</td>\n",
       "      <td>1.090208</td>\n",
       "      <td>-7.964984</td>\n",
       "      <td>-6.450096</td>\n",
       "      <td>-5.720868</td>\n",
       "      <td>-5.046192</td>\n",
       "      <td>-2.434031</td>\n",
       "    </tr>\n",
       "    <tr>\n",
       "      <th>spread2</th>\n",
       "      <td>195.0</td>\n",
       "      <td>0.226510</td>\n",
       "      <td>0.083406</td>\n",
       "      <td>0.006274</td>\n",
       "      <td>0.174351</td>\n",
       "      <td>0.218885</td>\n",
       "      <td>0.279234</td>\n",
       "      <td>0.450493</td>\n",
       "    </tr>\n",
       "    <tr>\n",
       "      <th>D2</th>\n",
       "      <td>195.0</td>\n",
       "      <td>2.381826</td>\n",
       "      <td>0.382799</td>\n",
       "      <td>1.423287</td>\n",
       "      <td>2.099125</td>\n",
       "      <td>2.361532</td>\n",
       "      <td>2.636456</td>\n",
       "      <td>3.671155</td>\n",
       "    </tr>\n",
       "    <tr>\n",
       "      <th>PPE</th>\n",
       "      <td>195.0</td>\n",
       "      <td>0.206552</td>\n",
       "      <td>0.090119</td>\n",
       "      <td>0.044539</td>\n",
       "      <td>0.137451</td>\n",
       "      <td>0.194052</td>\n",
       "      <td>0.252980</td>\n",
       "      <td>0.527367</td>\n",
       "    </tr>\n",
       "  </tbody>\n",
       "</table>\n",
       "</div>"
      ],
      "text/plain": [
       "                  count        mean        std         min         25%  \\\n",
       "MDVP:Fo(Hz)       195.0  154.228641  41.390065   88.333000  117.572000   \n",
       "MDVP:Fhi(Hz)      195.0  197.104918  91.491548  102.145000  134.862500   \n",
       "MDVP:Flo(Hz)      195.0  116.324631  43.521413   65.476000   84.291000   \n",
       "MDVP:Jitter(%)    195.0    0.006220   0.004848    0.001680    0.003460   \n",
       "MDVP:Jitter(Abs)  195.0    0.000044   0.000035    0.000007    0.000020   \n",
       "MDVP:RAP          195.0    0.003306   0.002968    0.000680    0.001660   \n",
       "MDVP:PPQ          195.0    0.003446   0.002759    0.000920    0.001860   \n",
       "Jitter:DDP        195.0    0.009920   0.008903    0.002040    0.004985   \n",
       "MDVP:Shimmer      195.0    0.029709   0.018857    0.009540    0.016505   \n",
       "MDVP:Shimmer(dB)  195.0    0.282251   0.194877    0.085000    0.148500   \n",
       "Shimmer:APQ3      195.0    0.015664   0.010153    0.004550    0.008245   \n",
       "Shimmer:APQ5      195.0    0.017878   0.012024    0.005700    0.009580   \n",
       "MDVP:APQ          195.0    0.024081   0.016947    0.007190    0.013080   \n",
       "Shimmer:DDA       195.0    0.046993   0.030459    0.013640    0.024735   \n",
       "NHR               195.0    0.024847   0.040418    0.000650    0.005925   \n",
       "HNR               195.0   21.885974   4.425764    8.441000   19.198000   \n",
       "status            195.0    0.753846   0.431878    0.000000    1.000000   \n",
       "RPDE              195.0    0.498536   0.103942    0.256570    0.421306   \n",
       "DFA               195.0    0.718099   0.055336    0.574282    0.674758   \n",
       "spread1           195.0   -5.684397   1.090208   -7.964984   -6.450096   \n",
       "spread2           195.0    0.226510   0.083406    0.006274    0.174351   \n",
       "D2                195.0    2.381826   0.382799    1.423287    2.099125   \n",
       "PPE               195.0    0.206552   0.090119    0.044539    0.137451   \n",
       "\n",
       "                         50%         75%         max  \n",
       "MDVP:Fo(Hz)       148.790000  182.769000  260.105000  \n",
       "MDVP:Fhi(Hz)      175.829000  224.205500  592.030000  \n",
       "MDVP:Flo(Hz)      104.315000  140.018500  239.170000  \n",
       "MDVP:Jitter(%)      0.004940    0.007365    0.033160  \n",
       "MDVP:Jitter(Abs)    0.000030    0.000060    0.000260  \n",
       "MDVP:RAP            0.002500    0.003835    0.021440  \n",
       "MDVP:PPQ            0.002690    0.003955    0.019580  \n",
       "Jitter:DDP          0.007490    0.011505    0.064330  \n",
       "MDVP:Shimmer        0.022970    0.037885    0.119080  \n",
       "MDVP:Shimmer(dB)    0.221000    0.350000    1.302000  \n",
       "Shimmer:APQ3        0.012790    0.020265    0.056470  \n",
       "Shimmer:APQ5        0.013470    0.022380    0.079400  \n",
       "MDVP:APQ            0.018260    0.029400    0.137780  \n",
       "Shimmer:DDA         0.038360    0.060795    0.169420  \n",
       "NHR                 0.011660    0.025640    0.314820  \n",
       "HNR                22.085000   25.075500   33.047000  \n",
       "status              1.000000    1.000000    1.000000  \n",
       "RPDE                0.495954    0.587562    0.685151  \n",
       "DFA                 0.722254    0.761881    0.825288  \n",
       "spread1            -5.720868   -5.046192   -2.434031  \n",
       "spread2             0.218885    0.279234    0.450493  \n",
       "D2                  2.361532    2.636456    3.671155  \n",
       "PPE                 0.194052    0.252980    0.527367  "
      ]
     },
     "execution_count": 6,
     "metadata": {},
     "output_type": "execute_result"
    }
   ],
   "source": [
    "data.describe().T"
   ]
  },
  {
   "cell_type": "code",
   "execution_count": 7,
   "metadata": {},
   "outputs": [
    {
     "data": {
      "text/plain": [
       "Index(['name', 'MDVP:Fo(Hz)', 'MDVP:Fhi(Hz)', 'MDVP:Flo(Hz)', 'MDVP:Jitter(%)',\n",
       "       'MDVP:Jitter(Abs)', 'MDVP:RAP', 'MDVP:PPQ', 'Jitter:DDP',\n",
       "       'MDVP:Shimmer', 'MDVP:Shimmer(dB)', 'Shimmer:APQ3', 'Shimmer:APQ5',\n",
       "       'MDVP:APQ', 'Shimmer:DDA', 'NHR', 'HNR', 'status', 'RPDE', 'DFA',\n",
       "       'spread1', 'spread2', 'D2', 'PPE'],\n",
       "      dtype='object')"
      ]
     },
     "execution_count": 7,
     "metadata": {},
     "output_type": "execute_result"
    }
   ],
   "source": [
    "data.columns"
   ]
  },
  {
   "cell_type": "markdown",
   "metadata": {},
   "source": [
    "## EDA"
   ]
  },
  {
   "cell_type": "code",
   "execution_count": 8,
   "metadata": {},
   "outputs": [
    {
     "data": {
      "image/png": "[encoded data removed]",
      "text/plain": [
       "<Figure size 720x432 with 1 Axes>"
      ]
     },
     "metadata": {
      "needs_background": "light"
     },
     "output_type": "display_data"
    }
   ],
   "source": [
    "plt.figure(figsize=(10, 6))\n",
    "data.status.hist()\n",
    "plt.xlabel('status')\n",
    "plt.ylabel('Frequencies')\n",
    "plt.plot();"
   ]
  },
  {
   "cell_type": "code",
   "execution_count": 9,
   "metadata": {},
   "outputs": [
    {
     "data": {
      "image/png": "[encoded data removed]",
      "text/plain": [
       "<Figure size 720x432 with 1 Axes>"
      ]
     },
     "metadata": {
      "needs_background": "light"
     },
     "output_type": "display_data"
    }
   ],
   "source": [
    "plt.figure(figsize=(10, 6))\n",
    "sns.barplot(x=\"status\",y=\"NHR\",data=data);"
   ]
  },
  {
   "cell_type": "code",
   "execution_count": 10,
   "metadata": {},
   "outputs": [
    {
     "data": {
      "image/png": "[encoded data removed]",
      "text/plain": [
       "<Figure size 720x432 with 1 Axes>"
      ]
     },
     "metadata": {
      "needs_background": "light"
     },
     "output_type": "display_data"
    }
   ],
   "source": [
    "plt.figure(figsize=(10, 6))\n",
    "sns.barplot(x=\"status\",y=\"HNR\",data=data);"
   ]
  },
  {
   "cell_type": "code",
   "execution_count": 11,
   "metadata": {},
   "outputs": [
    {
     "data": {
      "image/png": "[encoded data removed]",
      "text/plain": [
       "<Figure size 720x432 with 1 Axes>"
      ]
     },
     "metadata": {
      "needs_background": "light"
     },
     "output_type": "display_data"
    }
   ],
   "source": [
    "plt.figure(figsize=(10, 6))\n",
    "sns.barplot(x=\"status\",y=\"RPDE\",data=data);"
   ]
  },
  {
   "cell_type": "markdown",
   "metadata": {},
   "source": [
    "## Distribution plot"
   ]
  },
  {
   "cell_type": "code",
   "execution_count": 12,
   "metadata": {},
   "outputs": [
    {
     "data": {
      "image/png": "[encoded data removed]",
      "text/plain": [
       "<Figure size 1152x576 with 21 Axes>"
      ]
     },
     "metadata": {
      "needs_background": "light"
     },
     "output_type": "display_data"
    }
   ],
   "source": [
    "rows=3\n",
    "cols=7\n",
    "fig, ax=plt.subplots(nrows=rows,ncols=cols,figsize=(16,8))\n",
    "col=data.columns\n",
    "index=1\n",
    "for i in range(rows):\n",
    "    for j in range(cols):\n",
    "        sns.histplot(data[col[index]],ax=ax[i][j])\n",
    "        index=index+1     \n",
    "plt.tight_layout()"
   ]
  },
  {
   "cell_type": "code",
   "execution_count": 13,
   "metadata": {},
   "outputs": [],
   "source": [
    "data.drop(['name'],axis=1,inplace=True)"
   ]
  },
  {
   "cell_type": "code",
   "execution_count": 14,
   "metadata": {},
   "outputs": [
    {
     "name": "stdout",
     "output_type": "stream",
     "text": [
      "(156, 22) (39, 22) (156,) (39,)\n"
     ]
    }
   ],
   "source": [
    "X_train,X_test,Y_train,Y_test=train_test_split(data.drop(labels=['status'],axis=1),data['status'],test_size=0.2,random_state=40)\n",
    "print(X_train.shape,X_test.shape,Y_train.shape,Y_test.shape)"
   ]
  },
  {
   "cell_type": "markdown",
   "metadata": {},
   "source": [
    "## Model Building"
   ]
  },
  {
   "cell_type": "markdown",
   "metadata": {},
   "source": [
    "**Logistic Regression**"
   ]
  },
  {
   "cell_type": "code",
   "execution_count": 15,
   "metadata": {},
   "outputs": [],
   "source": [
    "model = LogisticRegression(max_iter=1000).fit(X_train, Y_train)"
   ]
  },
  {
   "cell_type": "code",
   "execution_count": 16,
   "metadata": {},
   "outputs": [
    {
     "name": "stdout",
     "output_type": "stream",
     "text": [
      "Model accuracy on train is:  0.8653846153846154\n"
     ]
    }
   ],
   "source": [
    "train_preds = model.predict(X_train)\n",
    "print(\"Model accuracy on train is: \", accuracy_score(Y_train, train_preds))"
   ]
  },
  {
   "cell_type": "code",
   "execution_count": 17,
   "metadata": {},
   "outputs": [
    {
     "name": "stdout",
     "output_type": "stream",
     "text": [
      "Model accuracy on test is:  0.8717948717948718\n"
     ]
    }
   ],
   "source": [
    "test_preds = model.predict(X_test)\n",
    "print(\"Model accuracy on test is: \", accuracy_score(Y_test, test_preds))"
   ]
  },
  {
   "cell_type": "code",
   "execution_count": 18,
   "metadata": {},
   "outputs": [
    {
     "name": "stdout",
     "output_type": "stream",
     "text": [
      "   0   1\n",
      "0  5   3\n",
      "1  2  29\n"
     ]
    }
   ],
   "source": [
    "#Confusion matrix\n",
    "cm = metrics.confusion_matrix(Y_test, test_preds)\n",
    "print(pd.DataFrame(cm))"
   ]
  },
  {
   "cell_type": "code",
   "execution_count": 19,
   "metadata": {},
   "outputs": [
    {
     "name": "stdout",
     "output_type": "stream",
     "text": [
      "5 / 39\n"
     ]
    }
   ],
   "source": [
    "# Wrong Predictions made.\n",
    "print((Y_test !=test_preds).sum(),'/',((Y_test == test_preds).sum()+(Y_test != test_preds).sum()))"
   ]
  },
  {
   "cell_type": "code",
   "execution_count": 20,
   "metadata": {},
   "outputs": [
    {
     "name": "stdout",
     "output_type": "stream",
     "text": [
      "KappaScore is:  0.587737843551797\n"
     ]
    }
   ],
   "source": [
    "# Kappa Score\n",
    "print('KappaScore is: ', metrics.cohen_kappa_score(Y_test,test_preds))"
   ]
  },
  {
   "cell_type": "markdown",
   "metadata": {},
   "source": [
    "**Random Forest**"
   ]
  },
  {
   "cell_type": "code",
   "execution_count": 21,
   "metadata": {},
   "outputs": [],
   "source": [
    "model = RandomForestClassifier().fit(X_train,Y_train)"
   ]
  },
  {
   "cell_type": "code",
   "execution_count": 22,
   "metadata": {},
   "outputs": [
    {
     "name": "stdout",
     "output_type": "stream",
     "text": [
      "Model accuracy on train is:  1.0\n"
     ]
    }
   ],
   "source": [
    "train_preds = model.predict(X_train)\n",
    "print(\"Model accuracy on train is: \", accuracy_score(Y_train, train_preds))"
   ]
  },
  {
   "cell_type": "code",
   "execution_count": 23,
   "metadata": {},
   "outputs": [
    {
     "name": "stdout",
     "output_type": "stream",
     "text": [
      "Model accuracy on test is:  0.8717948717948718\n"
     ]
    }
   ],
   "source": [
    "test_preds = model.predict(X_test)\n",
    "print(\"Model accuracy on test is: \", accuracy_score(Y_test, test_preds))"
   ]
  },
  {
   "cell_type": "code",
   "execution_count": 24,
   "metadata": {},
   "outputs": [
    {
     "name": "stdout",
     "output_type": "stream",
     "text": [
      "   0   1\n",
      "0  6   2\n",
      "1  3  28\n"
     ]
    }
   ],
   "source": [
    "#Confusion matrix\n",
    "cm = metrics.confusion_matrix(Y_test, test_preds)\n",
    "print(pd.DataFrame(cm))"
   ]
  },
  {
   "cell_type": "code",
   "execution_count": 25,
   "metadata": {},
   "outputs": [
    {
     "name": "stdout",
     "output_type": "stream",
     "text": [
      "5 / 39\n"
     ]
    }
   ],
   "source": [
    "# Wrong Predictions made.\n",
    "print((Y_test !=test_preds).sum(),'/',((Y_test == test_preds).sum()+(Y_test != test_preds).sum()))"
   ]
  },
  {
   "cell_type": "code",
   "execution_count": 26,
   "metadata": {},
   "outputs": [
    {
     "name": "stdout",
     "output_type": "stream",
     "text": [
      "KappaScore is:  0.6242774566473989\n"
     ]
    }
   ],
   "source": [
    "# Kappa Score\n",
    "print('KappaScore is: ', metrics.cohen_kappa_score(Y_test,test_preds))"
   ]
  },
  {
   "cell_type": "markdown",
   "metadata": {},
   "source": [
    "**Decision Trees**"
   ]
  },
  {
   "cell_type": "code",
   "execution_count": 27,
   "metadata": {},
   "outputs": [],
   "source": [
    "model = DecisionTreeClassifier().fit(X_train,Y_train)"
   ]
  },
  {
   "cell_type": "code",
   "execution_count": 28,
   "metadata": {},
   "outputs": [
    {
     "name": "stdout",
     "output_type": "stream",
     "text": [
      "Model accuracy on train is:  1.0\n"
     ]
    }
   ],
   "source": [
    "train_preds = model.predict(X_train)\n",
    "print(\"Model accuracy on train is: \", accuracy_score(Y_train, train_preds))"
   ]
  },
  {
   "cell_type": "code",
   "execution_count": 29,
   "metadata": {},
   "outputs": [
    {
     "name": "stdout",
     "output_type": "stream",
     "text": [
      "Model accuracy on test is:  0.8717948717948718\n"
     ]
    }
   ],
   "source": [
    "test_preds = model.predict(X_test)\n",
    "print(\"Model accuracy on test is: \", accuracy_score(Y_test, test_preds))"
   ]
  },
  {
   "cell_type": "code",
   "execution_count": 30,
   "metadata": {},
   "outputs": [
    {
     "name": "stdout",
     "output_type": "stream",
     "text": [
      "   0   1\n",
      "0  5   3\n",
      "1  2  29\n"
     ]
    }
   ],
   "source": [
    "#Confusion matrix\n",
    "cm = metrics.confusion_matrix(Y_test, test_preds)\n",
    "print(pd.DataFrame(cm))"
   ]
  },
  {
   "cell_type": "code",
   "execution_count": 31,
   "metadata": {},
   "outputs": [
    {
     "name": "stdout",
     "output_type": "stream",
     "text": [
      "5 / 39\n"
     ]
    }
   ],
   "source": [
    "# Wrong Predictions made.\n",
    "print((Y_test !=test_preds).sum(),'/',((Y_test == test_preds).sum()+(Y_test != test_preds).sum()))"
   ]
  },
  {
   "cell_type": "code",
   "execution_count": 32,
   "metadata": {},
   "outputs": [
    {
     "name": "stdout",
     "output_type": "stream",
     "text": [
      "KappaScore is:  0.587737843551797\n"
     ]
    }
   ],
   "source": [
    "# Kappa Score\n",
    "print('KappaScore is: ', metrics.cohen_kappa_score(Y_test,test_preds))"
   ]
  },
  {
   "cell_type": "markdown",
   "metadata": {},
   "source": [
    "**Naive Bayes Classifier**"
   ]
  },
  {
   "cell_type": "code",
   "execution_count": 33,
   "metadata": {},
   "outputs": [],
   "source": [
    "model = GaussianNB().fit(X_train,Y_train)"
   ]
  },
  {
   "cell_type": "code",
   "execution_count": 34,
   "metadata": {},
   "outputs": [
    {
     "name": "stdout",
     "output_type": "stream",
     "text": [
      "Model accuracy on train is:  0.7307692307692307\n"
     ]
    }
   ],
   "source": [
    "train_preds = model.predict(X_train)\n",
    "print(\"Model accuracy on train is: \", accuracy_score(Y_train, train_preds))"
   ]
  },
  {
   "cell_type": "code",
   "execution_count": 35,
   "metadata": {},
   "outputs": [
    {
     "name": "stdout",
     "output_type": "stream",
     "text": [
      "Model accuracy on test is:  0.6923076923076923\n"
     ]
    }
   ],
   "source": [
    "test_preds = model.predict(X_test)\n",
    "print(\"Model accuracy on test is: \", accuracy_score(Y_test, test_preds))"
   ]
  },
  {
   "cell_type": "code",
   "execution_count": 36,
   "metadata": {},
   "outputs": [
    {
     "name": "stdout",
     "output_type": "stream",
     "text": [
      "    0   1\n",
      "0   8   0\n",
      "1  12  19\n"
     ]
    }
   ],
   "source": [
    "#Confusion matrix\n",
    "cm = metrics.confusion_matrix(Y_test, test_preds)\n",
    "print(pd.DataFrame(cm))"
   ]
  },
  {
   "cell_type": "code",
   "execution_count": 37,
   "metadata": {},
   "outputs": [
    {
     "name": "stdout",
     "output_type": "stream",
     "text": [
      "12 / 39\n"
     ]
    }
   ],
   "source": [
    "# Wrong Predictions made.\n",
    "print((Y_test !=test_preds).sum(),'/',((Y_test == test_preds).sum()+(Y_test != test_preds).sum()))"
   ]
  },
  {
   "cell_type": "markdown",
   "metadata": {},
   "source": [
    "**K-NearestNeighbours**"
   ]
  },
  {
   "cell_type": "code",
   "execution_count": 39,
   "metadata": {},
   "outputs": [],
   "source": [
    "model = KNeighborsClassifier().fit(X_train,Y_train)"
   ]
  },
  {
   "cell_type": "code",
   "execution_count": 40,
   "metadata": {},
   "outputs": [
    {
     "name": "stdout",
     "output_type": "stream",
     "text": [
      "Model accuracy on train is:  0.9102564102564102\n"
     ]
    }
   ],
   "source": [
    "train_preds = model.predict(X_train)\n",
    "print(\"Model accuracy on train is: \", accuracy_score(Y_train, train_preds))"
   ]
  },
  {
   "cell_type": "code",
   "execution_count": 41,
   "metadata": {},
   "outputs": [
    {
     "name": "stdout",
     "output_type": "stream",
     "text": [
      "Model accuracy on test is:  0.8461538461538461\n"
     ]
    }
   ],
   "source": [
    "test_preds = model.predict(X_test)\n",
    "print(\"Model accuracy on test is: \", accuracy_score(Y_test, test_preds))"
   ]
  },
  {
   "cell_type": "code",
   "execution_count": 42,
   "metadata": {},
   "outputs": [
    {
     "name": "stdout",
     "output_type": "stream",
     "text": [
      "   0   1\n",
      "0  4   4\n",
      "1  2  29\n"
     ]
    }
   ],
   "source": [
    "#Confusion matrix\n",
    "cm = metrics.confusion_matrix(Y_test, test_preds)\n",
    "print(pd.DataFrame(cm))"
   ]
  },
  {
   "cell_type": "code",
   "execution_count": 43,
   "metadata": {},
   "outputs": [
    {
     "name": "stdout",
     "output_type": "stream",
     "text": [
      "6 / 39\n"
     ]
    }
   ],
   "source": [
    "# Wrong Predictions made.\n",
    "print((Y_test !=test_preds).sum(),'/',((Y_test == test_preds).sum()+(Y_test != test_preds).sum()))"
   ]
  },
  {
   "cell_type": "markdown",
   "metadata": {},
   "source": [
    "**SupportVectorMachine**"
   ]
  },
  {
   "cell_type": "code",
   "execution_count": 45,
   "metadata": {},
   "outputs": [],
   "source": [
    "model = SVC(kernel='linear').fit(X_train, Y_train)"
   ]
  },
  {
   "cell_type": "code",
   "execution_count": 46,
   "metadata": {},
   "outputs": [
    {
     "name": "stdout",
     "output_type": "stream",
     "text": [
      "Model accuracy on train is:  0.8782051282051282\n"
     ]
    }
   ],
   "source": [
    "train_preds = model.predict(X_train)\n",
    "print(\"Model accuracy on train is: \", accuracy_score(Y_train, train_preds))"
   ]
  },
  {
   "cell_type": "code",
   "execution_count": 47,
   "metadata": {},
   "outputs": [
    {
     "name": "stdout",
     "output_type": "stream",
     "text": [
      "Model accuracy on test is:  0.8974358974358975\n"
     ]
    }
   ],
   "source": [
    "test_preds = model.predict(X_test)\n",
    "print(\"Model accuracy on test is: \", accuracy_score(Y_test, test_preds))"
   ]
  },
  {
   "cell_type": "code",
   "execution_count": 48,
   "metadata": {},
   "outputs": [
    {
     "name": "stdout",
     "output_type": "stream",
     "text": [
      "   0   1\n",
      "0  5   3\n",
      "1  1  30\n"
     ]
    }
   ],
   "source": [
    "#Confusion matrix\n",
    "cm = metrics.confusion_matrix(Y_test, test_preds)\n",
    "print(pd.DataFrame(cm))"
   ]
  },
  {
   "cell_type": "code",
   "execution_count": 49,
   "metadata": {},
   "outputs": [
    {
     "name": "stdout",
     "output_type": "stream",
     "text": [
      "4 / 39\n"
     ]
    }
   ],
   "source": [
    "# Wrong Predictions made.\n",
    "print((Y_test !=test_preds).sum(),'/',((Y_test == test_preds).sum()+(Y_test != test_preds).sum()))"
   ]
  }
 ],
 "metadata": {
  "kernelspec": {
   "display_name": "Python 3",
   "language": "python",
   "name": "python3"
  },
  "language_info": {
   "codemirror_mode": {
    "name": "ipython",
    "version": 3
   },
   "file_extension": ".py",
   "mimetype": "text/x-python",
   "name": "python",
   "nbconvert_exporter": "python",
   "pygments_lexer": "ipython3",
   "version": "3.8.5"
  }
 },
 "nbformat": 4,
 "nbformat_minor": 2
}
